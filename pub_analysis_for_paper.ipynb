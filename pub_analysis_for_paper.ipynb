{
 "cells": [
  {
   "cell_type": "code",
   "execution_count": null,
   "metadata": {
    "hideCode": false,
    "hidePrompt": false
   },
   "outputs": [],
   "source": [
    "import pandas as pd\n",
    "import numpy as np\n",
    "\n",
    "import scipy.stats as scs\n",
    "import statsmodels.api as sm\n",
    "import statsmodels.stats as st\n",
    "from statsmodels.stats.proportion import proportion_confint\n",
    "\n",
    "from matplotlib import gridspec, rcParams\n",
    "from matplotlib.ticker import FuncFormatter\n",
    "import matplotlib.pyplot as plt\n",
    "import matplotlib.patches as mpatches\n",
    "import seaborn as sns\n",
    "\n",
    "sns.set()\n",
    "\n",
    "from IPython.display import display, Markdown\n",
    "\n",
    "%matplotlib inline"
   ]
  },
  {
   "cell_type": "code",
   "execution_count": null,
   "metadata": {},
   "outputs": [],
   "source": [
    "# create output directory if it doesn't exist\n",
    "import os\n",
    "if not os.path.exists('plots'):\n",
    "   os.makedirs('plots')"
   ]
  },
  {
   "cell_type": "code",
   "execution_count": null,
   "metadata": {
    "hideCode": false,
    "hidePrompt": false
   },
   "outputs": [],
   "source": [
    "def split_multiselect(col):\n",
    "    'Split categorical multiple-select column into multiple Boolean columns'\n",
    "\n",
    "    df = pd.concat([pd.Series(index=str(x).split(','), data=1) for x in col],\n",
    "                   axis=1, sort=False).transpose().set_index(col.index)\n",
    "    \n",
    "    return df.drop(columns='nan').fillna(0)\n",
    "\n",
    "def print_unique_categories(x):\n",
    "    'Print unique categories in list of comma-sep multi-select strings'\n",
    "\n",
    "    return set(','.join([str(xx) for xx in x]).split(','))\n",
    "\n",
    "def dm(t):\n",
    "    display(Markdown(t))"
   ]
  },
  {
   "cell_type": "code",
   "execution_count": null,
   "metadata": {
    "hideCode": false,
    "hidePrompt": false
   },
   "outputs": [],
   "source": [
    "# Load enrollments\n",
    "enr = pd.read_csv('data/enrollments_pub.csv', header=0)\n",
    "enr['one'] = 1.\n",
    "enr['level'] = 'INTRO'\n",
    "\n",
    "enr_adv = pd.read_csv('data/enrollments_adv_pub.csv', header=0)\n",
    "enr_adv['one'] = 1.\n",
    "enr_adv['level'] = 'ADV'\n",
    "\n",
    "# Load pre-surveys\n",
    "pre = pd.read_csv('data/pre_survey_pub.csv', header=0).dropna(axis=0, how='all')\n",
    "pre['one'] = 1.\n",
    "\n",
    "# Load post-surveys\n",
    "pst = pd.read_csv('data/pst_survey_pub.csv', header=0).dropna(axis=0, how='all')\n",
    "pst['one'] = 1.\n",
    "\n",
    "# # Load pre and post questions\n",
    "pre_q = pd.read_csv('data/pre_survey_question_info.csv',\n",
    "                    header=0, index_col=0)\n",
    "\n",
    "pst_q = pd.read_csv('data/pst_survey_question_info.csv',\n",
    "                    header=0, index_col=0)"
   ]
  },
  {
   "cell_type": "code",
   "execution_count": null,
   "metadata": {},
   "outputs": [],
   "source": [
    "enr['activity_quiz_count'] = enr[['activity_q{:d}'.format(i) for i in range(1, 7)]].sum(axis=1)\n",
    "enr['activity_pga_count'] = enr[['activity_pga{:d}'.format(i) for i in range(1, 4)]].sum(axis=1)\n",
    "enr['activity_vid_week_count'] = \\\n",
    "    (enr[['activity_vid_week_{:d}'.format(i) for i in range(1, 7)]] > 1).sum(axis=1)"
   ]
  },
  {
   "cell_type": "markdown",
   "metadata": {},
   "source": [
    "# Definitions\n",
    "\n",
    "- __Registrant__: A person who registered for the MOOC\n",
    "- __Learner__: A registrant who completed at least two quizzes, completed a PGA, or watched videos from at least three of the six course modules.\n",
    "- __Completer__: A Learner who completed a combination of quizzes (weighted 60% together for four highest scores) and PGAs (individually weighted 10%, 10%, and 20%) to get an overall score of 50%.\n",
    "- __Auditor__: A Learner who did not meet the criteria for Completion."
   ]
  },
  {
   "cell_type": "code",
   "execution_count": null,
   "metadata": {},
   "outputs": [],
   "source": [
    "enr['activity_auditor'] = enr['activity_learner'] & (~enr['activity_completed'])\n",
    "enr_adv['activity_auditor'] = enr_adv['activity_learner'] & (~enr_adv['activity_completed'])\n",
    "\n",
    "enr['learner_category'] = 'Non-learner'\n",
    "enr.loc[enr['activity_completed'] == 1, 'learner_category'] = 'Learner: completer'\n",
    "enr.loc[(enr['activity_auditor'] == 1) , 'learner_category'] = 'Learner: auditor'"
   ]
  },
  {
   "cell_type": "markdown",
   "metadata": {},
   "source": [
    "### Week-by-week engagement\n",
    "\n",
    "Determine whether a registrant was engaged during each of the 6 weeks and calculate the total # of weeks engaged."
   ]
  },
  {
   "cell_type": "code",
   "execution_count": null,
   "metadata": {},
   "outputs": [],
   "source": [
    "# Pivot to long: each row is a (user):(week)\n",
    "# User is engaged in week n if they complete Quiz n or watch more than 0 videos in week n\n",
    "x = pd.wide_to_long(enr, stubnames=['activity_q', 'activity_vid_week_'], i='unique_user_id', j='week')\n",
    "x['engaged'] = (x['activity_q'] > 0) | (x['activity_vid_week_'] > 0)\n",
    "enr = enr.merge(x.groupby('unique_user_id').sum()['engaged'].rename('activity_weeks_engaged'),\n",
    "                left_on='unique_user_id', right_index=True)"
   ]
  },
  {
   "cell_type": "code",
   "execution_count": null,
   "metadata": {},
   "outputs": [],
   "source": [
    "# Intend to pursue academic job\n",
    "job_categories = {'Community college',\n",
    "                  'Research intensive university faculty position',\n",
    "                  'Undergraduate-focused college or university'}\n",
    "\n",
    "pre['academic_job'] = pre['QID363'].apply(lambda x: len(set(str(x).split(',')) & job_categories) > 0)\n",
    "\n",
    "# Intent to be active\n",
    "pre['intent_active'] = (pre['QID366'].apply(lambda x: 'complete most of the quizzes' in str(x)) |\n",
    "                        pre['QID366'].apply(lambda x: 'complete the peer assessments' in str(x)))"
   ]
  },
  {
   "cell_type": "markdown",
   "metadata": {},
   "source": [
    "# Matched survey data\n",
    "\n",
    "The first two iterations of the course were offered on Coursera, and the pre/post surveys were linked to course activity"
   ]
  },
  {
   "cell_type": "code",
   "execution_count": null,
   "metadata": {
    "hideCode": false,
    "hidePrompt": false
   },
   "outputs": [],
   "source": [
    "# Coursera courses (linked survey and completion stats)\n",
    "pre_c = pre[pre['course_name'].isin(['INTRO Fall 2014',\n",
    "                                     'INTRO Fall 2015'])]\n",
    "pst_c = pst[pst['course_name'].isin(['INTRO Fall 2014',\n",
    "                                     'INTRO Fall 2015'])]\n",
    "\n",
    "enr_c = enr[enr['course_name'].isin(['INTRO Fall 2014',\n",
    "                                     'INTRO Fall 2015'])]\n",
    "\n",
    "print('           Enrollments  Pre-surveys  Post-surveys')\n",
    "print('All INTRO:   {:9d}    {:9d}     {:9d}'.format(len(enr), len(pre), len(pst)))\n",
    "print('COURSERA:    {:9d}    {:9d}     {:9d}'.format(len(enr_c), len(pre_c), len(pst_c)))\n",
    "\n",
    "print('\\nINTRO: {:5.1f}% of students complete pre-survey'.format(100.*len(pre) / len(enr)))\n",
    "print('INTRO: {:5.1f}% of students complete post-survey'.format(100.*len(pst) / len(enr)))"
   ]
  },
  {
   "cell_type": "code",
   "execution_count": null,
   "metadata": {},
   "outputs": [],
   "source": [
    "# Linked pre- and post-survey data, including activity data\n",
    "pre_pst = pst_c.merge(pre_c, how='inner', on='unique_user_id')\\\n",
    "    .merge(enr_c, how='left', on='unique_user_id')\n",
    "pre_pst['one'] = 1.\n",
    "print('{:d} matching pre-post survey pairs'.format(len(pre_pst)))"
   ]
  },
  {
   "cell_type": "code",
   "execution_count": null,
   "metadata": {},
   "outputs": [],
   "source": [
    "# Linked Pre-survey and activity data\n",
    "pre_enr = pre_c.merge(enr_c, how='left', on='unique_user_id')\n",
    "pre_enr['one'] = 1.\n",
    "print('{:d} matching pre-survey/enrollment pairs'.format(len(pre_enr)))"
   ]
  },
  {
   "cell_type": "code",
   "execution_count": null,
   "metadata": {},
   "outputs": [],
   "source": [
    "# Linked post-survey and activity data\n",
    "pst_enr = pst_c.merge(enr_c, how='left', on='unique_user_id')\n",
    "pst_enr['one'] = 1.\n",
    "print('{:d} matching post-survey/enrollment pairs'.format(len(pst_enr)))"
   ]
  },
  {
   "cell_type": "markdown",
   "metadata": {
    "hideCode": false,
    "hidePrompt": false
   },
   "source": [
    "# Basic enrollment and completion stats"
   ]
  },
  {
   "cell_type": "code",
   "execution_count": null,
   "metadata": {},
   "outputs": [],
   "source": [
    "t = pd.concat([enr, enr_adv], join='inner')\\\n",
    "    .groupby('level')\\\n",
    "    .aggregate({'course_name': 'nunique',\n",
    "                'one': 'sum',\n",
    "                'activity_learner': 'sum',\n",
    "                'activity_completed': 'sum',\n",
    "                'activity_auditor': 'sum',\n",
    "                'activity_weeks_engaged': lambda x: (x == 6).sum()\n",
    "               })\\\n",
    "    .rename(columns={'course_name': 'Offerings',\n",
    "                     'one': 'Total enrollments',\n",
    "                     'activity_learner': 'Total learners',\n",
    "                     'activity_completed': 'Completers',\n",
    "                     'activity_auditor': 'Auditors',\n",
    "                     'activity_weeks_engaged': 'Engaged all 6 weeks'})\\\n",
    "    .transpose()[['INTRO', 'ADV']]"
   ]
  },
  {
   "cell_type": "markdown",
   "metadata": {},
   "source": [
    "### Totals"
   ]
  },
  {
   "cell_type": "code",
   "execution_count": null,
   "metadata": {},
   "outputs": [],
   "source": [
    "t.style.format('{:.0f}')"
   ]
  },
  {
   "cell_type": "markdown",
   "metadata": {},
   "source": [
    "### As percentage of Total enrollments"
   ]
  },
  {
   "cell_type": "code",
   "execution_count": null,
   "metadata": {},
   "outputs": [],
   "source": [
    "(t.iloc[1:] / t.loc['Total enrollments']).style.format('{:.1%}')"
   ]
  },
  {
   "cell_type": "markdown",
   "metadata": {},
   "source": [
    "### As percentage of Learners"
   ]
  },
  {
   "cell_type": "code",
   "execution_count": null,
   "metadata": {},
   "outputs": [],
   "source": [
    "(t.iloc[2:] / t.loc['Total learners']).style.format('{:.0%}')"
   ]
  },
  {
   "cell_type": "markdown",
   "metadata": {},
   "source": [
    "## Course Engagement"
   ]
  },
  {
   "cell_type": "code",
   "execution_count": null,
   "metadata": {},
   "outputs": [],
   "source": [
    "plt.rc('font', size=8)          # controls default text sizes\n",
    "plt.rc('axes', titlesize=8)     # fontsize of the axes title\n",
    "plt.rc('axes', labelsize=10)    # fontsize of the x and y labels\n",
    "plt.rc('xtick', labelsize=8)    # fontsize of the tick labels\n",
    "plt.rc('ytick', labelsize=8)    # fontsize of the tick labels\n",
    "plt.rc('legend', fontsize=8)    # legend fontsize\n",
    "plt.rc('figure', titlesize=12)  # fontsize of the figure title"
   ]
  },
  {
   "cell_type": "code",
   "execution_count": null,
   "metadata": {},
   "outputs": [],
   "source": [
    "fig, ax = plt.subplots(ncols=2, figsize=(6.5, 3))\n",
    "\n",
    "cm_blue = sns.cubehelix_palette(start=2.8, rot=0.1, as_cmap=True)\n",
    "\n",
    "## Video/quiz engagement grid\n",
    "sns.heatmap(pd.crosstab(enr['activity_vid_week_count'],\n",
    "                        enr['activity_quiz_count'])\n",
    "            .sort_index(ascending=False),\n",
    "            annot=True, fmt='d', vmax=600, ax=ax[0], cmap=cm_blue, cbar=False)\n",
    "\n",
    "# Draw boundary around learner category\n",
    "ax[0].plot(np.array([0.03, 0.03, 6.95, 6.95, 2., 2., 0]),\n",
    "           7 - np.array([3., 6.97, 6.97, 0.05, 0.05, 3., 3.]), '#00aaaa', linewidth=3)\n",
    "\n",
    "ax[0].set_ylabel('Number of weeks watching videos');\n",
    "ax[0].set_xlabel('Number of quizzes attempted');\n",
    "\n",
    "\n",
    "## Fraction of users actively watching videos each week\n",
    "vid_wk_cols = ['activity_vid_week_{:d}'.format(i) for i in range(1, 7)]\n",
    "vid_wks = enr[vid_wk_cols]\\\n",
    "    .rename(columns=lambda x: x[-1])\n",
    "\n",
    "cb = sns.color_palette('Blues_r', 3)\n",
    "cr = sns.color_palette('Reds', 2)\n",
    "t = (100.*(vid_wks > 1).groupby(enr['learner_category']).sum().transpose() / len(enr))\n",
    "\n",
    "b1 = ax[1].bar(t.index, t['Learner: completer'], color=cb[0]) \n",
    "b2 = ax[1].bar(t.index, t['Learner: auditor'], bottom=t['Learner: completer'], color=cb[1])\n",
    "b3 = ax[1].bar(t.index, t['Non-learner'], bottom=t['Learner: completer']+t['Learner: auditor'], color=cr[0])\n",
    "\n",
    "ax[1].set_facecolor(\"white\")\n",
    "ax[1].spines[\"top\"].set_visible(False)\n",
    "ax[1].spines[\"right\"].set_visible(False)\n",
    "ax[1].spines[\"left\"].set_visible(False)\n",
    "ax[1].grid(False)\n",
    "ax[1].grid(which=\"major\", axis=\"y\", color=\"#cccccc\")\n",
    "ax[1].set_xlabel('Module / Course week');\n",
    "ax[1].set_ylabel('Percent of users who watched >1 video');\n",
    "ax[1].yaxis.set_major_formatter(FuncFormatter(lambda f, _: '{:.0f}%'.format(f)))\n",
    "\n",
    "ax[1].legend([b3[0], b2[0], b1[0]], \n",
    "             ['Non-learner', 'Learner: auditor', 'Learner: completer'  ], \n",
    "             title='', loc=\"upper right\", facecolor=\"white\", framealpha=1, frameon=True, edgecolor='w',\n",
    "            borderaxespad=0)\n",
    "\n",
    "plt.tight_layout(w_pad=3)\n",
    "plt.savefig(\"plots/Fig1-v3.png\")\n",
    "plt.savefig(\"plots/Fig1-v3.svg\")"
   ]
  },
  {
   "cell_type": "code",
   "execution_count": null,
   "metadata": {},
   "outputs": [],
   "source": [
    "# Note about PGA completers who aren't counted within the red boundary\n",
    "print('...a small number ({:d}) of learners who completed a PGA but few '\n",
    "      'quizzes may not fall within the red boundary.'\n",
    "      .format(((enr['activity_pga_count'] > 0) &\n",
    "               (enr['activity_quiz_count'] < 2) &\n",
    "               (enr['activity_vid_week_count'] < 3)).sum()))"
   ]
  },
  {
   "cell_type": "code",
   "execution_count": null,
   "metadata": {},
   "outputs": [],
   "source": [
    "# Video/Quiz activity matrix\n",
    "# Rows    = total number of video modules watched (>1 video counts as \"watched\" the module)\n",
    "# Columns = total number of quizzes completed\n",
    "pd.crosstab(enr['activity_vid_week_count'],\n",
    "            enr['activity_quiz_count']).sort_index(ascending=True)\\\n",
    "    .to_csv('plots/vid_quiz_matrix.csv')\n",
    "\n",
    "# Stacked bar chart: number of users who watched > 1 videos per module\n",
    "# Rows    = module number\n",
    "# Columns = engagement category\n",
    "(100.*(vid_wks > 1).groupby(enr['learner_category']).sum().transpose() / len(enr))\\\n",
    "    .to_csv('plots/vid_module_by_learner.csv')"
   ]
  },
  {
   "cell_type": "markdown",
   "metadata": {},
   "source": [
    "## Reaching our audience\n",
    "### Overlap between pre-survey, post-survey, completers, and learners"
   ]
  },
  {
   "cell_type": "code",
   "execution_count": null,
   "metadata": {},
   "outputs": [],
   "source": [
    "act_c = enr_c[enr_c['activity_learner'] == 1]\n",
    "com_c = enr_c[enr_c['activity_completed'] == 1]\n",
    "all6_no_com = enr_c[(enr_c['activity_completed'] == 0) &\n",
    "                    (enr_c['activity_weeks_engaged'] == 6)]\n",
    "\n",
    "dm('Over the seven instances of the introductory course, '\n",
    "   '{:d} students ({:.0%} of enrolled) took the pre-course survey.'\n",
    "   .format(len(pre), len(pre) / len(enr)))\n",
    "\n",
    "dm('{:.1%} of learners responded to pre-course survey'\n",
    "    .format(act_c['unique_user_id'].isin(pre_c['unique_user_id']).sum()\n",
    "            /len(act_c)))\n",
    "\n",
    "dm('{:.1%} of pre-survey respondents were Learners'\\\n",
    "    .format(pre_c['unique_user_id'].isin(act_c['unique_user_id']).sum()\n",
    "            /len(pre_c)))\n",
    "\n",
    "dm('{:.1%} of pre-survey respondents completed the course'\\\n",
    "    .format(pre_c['unique_user_id'].isin(com_c['unique_user_id']).sum()\n",
    "            / len(pre_c)))\n",
    "\n",
    "dm('{:.1%} of course completers responded to post-survey'\\\n",
    "    .format(com_c['unique_user_id'].isin(pst_c['unique_user_id']).sum()\n",
    "            / len(com_c)))\n",
    "\n",
    "dm('{:.1%} of post-survey respondents completed the course'\\\n",
    "    .format(pst_c['unique_user_id'].isin(com_c['unique_user_id']).sum()\n",
    "            / len(pst_c)))\n",
    "\n",
    "dm('{:.1%} of post-survey respondents were learners'\\\n",
    "    .format(pst_c['unique_user_id'].isin(act_c['unique_user_id']).sum()\n",
    "            / len(pst_c)))\n",
    "\n",
    "dm('An additional {:.1%} of post-survey respondents were engaged all 6 weeks'\\\n",
    "    .format(pst_c['unique_user_id'].isin(all6_no_com['unique_user_id']).sum()\n",
    "            / len(pst_c)))"
   ]
  },
  {
   "cell_type": "markdown",
   "metadata": {},
   "source": [
    "### Role"
   ]
  },
  {
   "cell_type": "code",
   "execution_count": null,
   "metadata": {},
   "outputs": [],
   "source": [
    "roles = pd.concat([pre['QID334_p'].value_counts(),\n",
    "                   pre['QID334_p'].value_counts()/pre['QID334_p'].notna().sum(),\n",
    "                   pst['QID334_p'].value_counts(),\n",
    "                   pst['QID334_p'].value_counts()/pst['QID334_p'].notna().sum()],\n",
    "                  axis=1, keys=['Pre total', 'Pre %', 'Post total', 'Post %'], sort=True)\n",
    "\n",
    "dm('__Based on responses (N/A not included in denominators)__')\n",
    "\n",
    "dm('PhD students and Post-docs make up {:.0%} of pre-survey respondents'\n",
    "   .format(roles.loc[['Doctoral student',\n",
    "                      'Post-doctoral researcher'], :].sum()['Pre %']))\n",
    "\n",
    "dm('PhD students and Post-docs make up {:.0%} of post-survey respondents'\n",
    "   .format(roles.loc[['Doctoral student',\n",
    "                      'Post-doctoral researcher'], :].sum()['Post %']))\n",
    "\n",
    "dm('Faculty make up {:.0%} of pre-survey respondents'\n",
    "   .format(roles.loc['Faculty', 'Pre %']))\n",
    "\n",
    "dm('Faculty make up {:.0%} of post-survey respondents'\n",
    "   .format(roles.loc['Faculty', 'Post %']))"
   ]
  },
  {
   "cell_type": "markdown",
   "metadata": {},
   "source": [
    "### Academic field"
   ]
  },
  {
   "cell_type": "code",
   "execution_count": null,
   "metadata": {},
   "outputs": [],
   "source": [
    "fields = pd.concat([pre['QID356'].value_counts(),\n",
    "                    pre['QID356'].value_counts()/pre['QID356'].notna().sum()],\n",
    "                   axis=1, keys=['Total', '%'])\n",
    "\n",
    "display(fields)\n",
    "\n",
    "dm('STEM/SBE fields account for {:.0%} of pre-survey respondents.'\n",
    "   .format(1. - fields.loc[['Health Fields', 'None of the above']].sum()['%']))"
   ]
  },
  {
   "cell_type": "markdown",
   "metadata": {},
   "source": [
    "### Intent to teach"
   ]
  },
  {
   "cell_type": "code",
   "execution_count": null,
   "metadata": {},
   "outputs": [],
   "source": [
    "sub_grp = ['Doctoral student', 'Post-doctoral researcher']\n",
    "\n",
    "pre['stem'] = ~pre['QID356'].isin(['Health Fields', 'None of the above']) & pre['QID356'].notna()\n",
    "\n",
    "n_all = len(pre)\n",
    "\n",
    "n_ppd = pre['QID334_p'].isin(sub_grp).sum()\n",
    "\n",
    "n_stem = (pre['QID334_p'].isin(sub_grp) &\n",
    "          pre['stem']).sum()\n",
    "\n",
    "n_ff = (pre['QID334_p'].isin(sub_grp) &\n",
    "        pre['stem'] &\n",
    "        pre['academic_job']).sum()\n",
    "\n",
    "print('{:d} pre-survey respondents'.format(n_all))\n",
    "print('{:d} PhDs and Post-docs'.format(n_ppd))\n",
    "print('{:d} STEM PhDs and Post-docs'.format(n_stem))\n",
    "print('{:d} STEM PhDs and Post-docs who intend to teach'.format(n_ff))\n",
    "print('{:d} pre-survey respondents intend to teach'.format(pre['academic_job'].sum()))\n",
    "\n",
    "print('{:.0%} of STEM PhDs and Post-docs intend to teach'\n",
    "      .format(n_ff / n_stem))"
   ]
  },
  {
   "cell_type": "markdown",
   "metadata": {},
   "source": [
    "## Outcomes\n",
    "### Completion rates"
   ]
  },
  {
   "cell_type": "code",
   "execution_count": null,
   "metadata": {},
   "outputs": [],
   "source": [
    "dm('Overall, {:.0%} of pre-course survey respondents completed the course'\n",
    "   .format(pre_enr['activity_completed'].sum() / len(pre_enr)))"
   ]
  },
  {
   "cell_type": "code",
   "execution_count": null,
   "metadata": {},
   "outputs": [],
   "source": [
    "def completion_comparison(var, outcome, ax):\n",
    "\n",
    "    ct = pd.crosstab(var, outcome)\n",
    "    rates = ct.loc[:, 1.0] / ct.sum(axis=1)\n",
    "    print (ct.sum().sum())\n",
    "    OR, p_val = scs.fisher_exact(ct, alternative='greater')\n",
    "    \n",
    "    # Print summary statistics\n",
    "    print('-------------------------------------')\n",
    "    print('Variable: {:s}'.format(var.name))\n",
    "    print('Number TRUE {:d}'.format(ct.loc[True, :].sum()))\n",
    "    print('%: {:.0%}'.format(ct.loc[True, :].sum()/var.shape[0]))\n",
    "    print('Completion rate TRUE: {:.0%}'.format(rates[True]))\n",
    "    print('Completion rate FALSE: {:.0%}'.format(rates[False]))\n",
    "    print('p-value: {:.3e}'.format(p_val))\n",
    "    \n",
    "    # Plot completion rate comparison\n",
    "    rates.plot(kind='bar', ax=ax, rot=0)\n",
    "    \n",
    "    for p in ax.patches:\n",
    "        ax.annotate('{:.0%}'.format(p.get_height()), (p.get_x() * 1.005, p.get_height() * 1.01))\n",
    "    \n",
    "    ax.set_ylabel('Completion rate')\n",
    "    ax.set_title('p = {:.3f}'.format(p_val))\n",
    "    \n",
    "    ax.set_ylim([0., 0.5])\n",
    "    \n",
    "\n",
    "fig, ax = plt.subplots(ncols=2, figsize=(6.5, 3))\n",
    "\n",
    "completion_comparison((pre_enr['QID334_p'] == 'Post-doctoral researcher').rename('is a post-doc'),\n",
    "                      pre_enr['activity_completed'], ax=ax[0])\n",
    "\n",
    "completion_comparison(pre_enr['academic_job'].rename('intends to teach'),\n",
    "                      pre_enr['activity_completed'], ax=ax[1])\n",
    "\n",
    "plt.tight_layout()\n",
    "# plot not used in paper - just numbers"
   ]
  },
  {
   "cell_type": "markdown",
   "metadata": {},
   "source": [
    "### Survey results and learning outcomes"
   ]
  },
  {
   "cell_type": "code",
   "execution_count": null,
   "metadata": {},
   "outputs": [],
   "source": [
    "dm(\"'Satisfied' or 'Extremely satisfied': {0:.0%} ({1:.0%} of question respondents)\"\n",
    "   .format((pst['QID699'] > 0).sum() / len(pst),\n",
    "           (pst['QID699'] > 0).sum() / pst['QID699'].notna().sum()))\n",
    "\n",
    "dm('Improved ability to teach: {0:.0%} ({1:.0%} of question respondents)'\n",
    "    .format((pst['QID354'] == 'yes').sum() / len(pst),\n",
    "            (pst['QID354'] == 'yes').sum() / pst['QID354'].notna().sum()))\n",
    "\n",
    "dm('Would recommend to others: {0:.0%} ({1:.0%} of question respondents)'\n",
    "    .format((pst['QID383'] == 'yes').sum() / len(pst),\n",
    "            (pst['QID383'] == 'yes').sum() / pst['QID383'].notna().sum()))"
   ]
  },
  {
   "cell_type": "markdown",
   "metadata": {},
   "source": [
    "### Familiarity"
   ]
  },
  {
   "cell_type": "code",
   "execution_count": null,
   "metadata": {},
   "outputs": [],
   "source": [
    "plt.rc('axes', labelsize=10)    # fontsize of the x and y labels\n",
    "plt.rc('xtick', labelsize=8)    # fontsize of the tick labels\n",
    "plt.rc('ytick', labelsize=8)    # fontsize of the tick labels"
   ]
  },
  {
   "cell_type": "code",
   "execution_count": null,
   "metadata": {
    "scrolled": true
   },
   "outputs": [],
   "source": [
    "print('Average of paired differences for the {:d} respondents '\n",
    "      'who took both the pre- and post-course surveys'\n",
    "      .format(len(pre_pst)))\n",
    "\n",
    "fig = plt.figure(figsize=(6.5,2.5))\n",
    "gs = gridspec.GridSpec(1, 2, width_ratios=[2.5, 1])\n",
    "axl = plt.subplot(gs[0])\n",
    "axr = plt.subplot(gs[1])\n",
    "\n",
    "q_fam = ['QID601_{:d}'.format(i) for i in [1, 2, 3, 4, 6]]\n",
    "q_text = pre_q.loc[q_fam, 'short']\n",
    "\n",
    "pre_fam = pre_c.loc[:, q_text.index]\n",
    "\n",
    "pst_fam = pst_c.loc[:, q_text.index]\n",
    "\n",
    "axl.errorbar(x=pre_fam.mean(), y=np.arange(5) + 0.1, xerr=pre_fam.std()/2,\n",
    "             fmt='o', label='Pre')\n",
    "axl.errorbar(x=pst_fam.mean(), y=np.arange(5) - 0.1, xerr=pst_fam.std()/2,\n",
    "             fmt='s', label='Post')\n",
    "\n",
    "axl.grid(False)\n",
    "axl.spines[\"top\"].set_visible(False)\n",
    "axl.spines[\"bottom\"].set_visible(False)\n",
    "axl.spines[\"right\"].set_visible(False)\n",
    "axl.spines[\"left\"].set_visible(False)\n",
    "axl.grid(which=\"major\", axis=\"x\", color=\"#cccccc\")\n",
    "\n",
    "axl.set_ylim(-0.5, 4.5)\n",
    "axl.set_yticks(range(5))\n",
    "axl.set_yticklabels(['{}'.format(x) for x in q_text.values])\n",
    "\n",
    "axl.set_xlim([-0.1, 3.1])\n",
    "axl.set_xticks(range(4))\n",
    "axl.set_xticklabels(['not at all', 'slightly', 'moderately', 'very'])\n",
    "axl.set_xlabel('Familiarity with teaching practice', labelpad=10)\n",
    "\n",
    "axl.legend(loc='lower left', frameon=False)\n",
    "\n",
    "axl.set_facecolor(\"white\")\n",
    "\n",
    "\n",
    "# Paired differences\n",
    "diff = (pre_pst.filter(axis='columns', regex='QID601_(1|2|3|4|6)_x').rename(columns=lambda x: x[:8]) -\n",
    "        pre_pst.filter(axis='columns', regex='QID601_(1|2|3|4|6)_y').rename(columns=lambda x: x[:8]))\n",
    "\n",
    "c_int = diff.sem() * scs.t.interval(0.99, diff.count()-1, loc=0, scale=1.)[1]\n",
    "\n",
    "eb = axr.errorbar(x=diff.mean(), y=range(5), xerr=c_int, fmt='D', color=\"purple\")\n",
    "\n",
    "axr.set_ylim([-0.4, 4.5])\n",
    "axr.set_yticks(range(5))\n",
    "axr.set_yticklabels(['{}'.format(x) for x in q_text.values])\n",
    "\n",
    "axr.set_xlim([-0.1, 2.1])\n",
    "axr.set_xticks(np.arange(0, 2.1, .5))\n",
    "axr.set_xticklabels(['0', '', '+1', '', '+2']);\n",
    "axr.set_xlabel('Average paired change\\nin scale categories', labelpad=10)\n",
    "\n",
    "axr.set_facecolor(\"white\")\n",
    "axr.grid(False)\n",
    "axr.spines[\"top\"].set_visible(False)\n",
    "axr.spines[\"bottom\"].set_visible(False)\n",
    "axr.spines[\"right\"].set_visible(False)\n",
    "axr.spines[\"left\"].set_visible(False)\n",
    "axr.grid(which=\"major\", axis=\"x\", color=\"#cccccc\")\n",
    "\n",
    "plt.tight_layout(w_pad=2)\n",
    "plt.savefig(\"plots/familiarity.png\")\n",
    "plt.savefig(\"plots/familiarity.svg\")"
   ]
  },
  {
   "cell_type": "code",
   "execution_count": null,
   "metadata": {},
   "outputs": [],
   "source": [
    "pd.concat([pre_fam.aggregate(['mean', 'std']).transpose(),\n",
    "           pre_fam.aggregate(['mean', 'std']).transpose(),\n",
    "           pd.concat([diff.mean(),\n",
    "                      diff.sem() * scs.t.interval(0.99, diff.count()-1, loc=0, scale=1.)[1]],\n",
    "                      keys=['mean', 'conf_int 99%'], axis=1)],\n",
    "          keys=['Pre', 'Post', 'Diff'], axis=1)\\\n",
    "    .rename(index=q_text)\\\n",
    "    .to_csv('plots/familiarity_outcomes.csv')"
   ]
  },
  {
   "cell_type": "markdown",
   "metadata": {},
   "source": [
    "## LEARNING COMMUNITY / MCLC ENGAGEMENT"
   ]
  },
  {
   "cell_type": "code",
   "execution_count": null,
   "metadata": {},
   "outputs": [],
   "source": [
    "dm('{0:.0%} of pre-course survey respondents planned to participate in in-person '\n",
    "   'learning communities, while {1:.0%} weren’t sure, and {2:.0%} thought not'\n",
    "   .format((pre['QID367'] == \"Yes\").sum() / pre['QID367'].notna().sum(),\n",
    "           (pre['QID367'] == \"I'm not sure\").sum() / pre['QID367'].notna().sum(),\n",
    "           (pre['QID367'] == \"No\").sum() / pre['QID367'].notna().sum()))"
   ]
  },
  {
   "cell_type": "code",
   "execution_count": null,
   "metadata": {},
   "outputs": [],
   "source": [
    "dm('{:.0%} of post-survey respondents reported participating in an MCLC.'\n",
    "   .format((pst['QID389_p'] == 'yes').sum() / pst['QID389_p'].notna().sum()))\n",
    "\n",
    "dm('{:.0%} of post-survey respondents were learners in the course.'\n",
    "   .format(pst_enr['activity_learner'].sum() / len(pst_enr)))\n",
    "\n",
    "dm('Completion rate for self-reported MCLC participants: {:.0%}'\n",
    "   .format(pst_enr.loc[pst_enr['QID389_p'] == 'yes', 'activity_completed'].sum() /\n",
    "           (pst_enr['QID389_p'] == 'yes').sum()))\n",
    "\n",
    "dm('Completion rate for self-reported MCLC non-participants: {:.0%}'\n",
    "   .format(pst_enr.loc[pst_enr['QID389_p'] == 'no', 'activity_completed'].sum() /\n",
    "           (pst_enr['QID389_p'] == 'no').sum()))"
   ]
  },
  {
   "cell_type": "code",
   "execution_count": null,
   "metadata": {},
   "outputs": [],
   "source": [
    "# Completion rate of those who INTEND to do MCLC and DO\n",
    "x = (pre_pst['QID367'] == 'Yes') & (pre_pst['QID389_p'] == 'yes')\n",
    "dm('Completion rate of those who INTEND to participate in MCLC and DO: {:.0%}, n={:d}'\n",
    "   .format(pre_pst.loc[x, 'activity_completed'].sum() / x.sum(),\n",
    "           x.sum()))\n",
    "\n",
    "# Completion rate of those who INTEND to do MCLC and DONT\n",
    "x = (pre_pst['QID367'] == 'Yes') & (pre_pst['QID389_p'] == 'no')\n",
    "dm('Completion rate of those who INTEND to participate in MCLC and DONT: {:.0%}, n={:d}'\n",
    "   .format(pre_pst.loc[x, 'activity_completed'].sum() / x.sum(),\n",
    "           x.sum()))\n",
    "\n",
    "# Completion rate of those who INTEND to do MCLC and DONT, or don't respond to post-survey\n",
    "d = pre_enr.merge(pst, how='left', on='unique_user_id')\n",
    "x = (d['QID367'] == 'Yes') & ~(d['QID389_p'] == 'yes')\n",
    "dm('Completion rate of those who INTEND to participate in MCLC and DONT (or dont respond): {:.0%}, n={:d}'\n",
    "   .format(d.loc[x, 'activity_completed'].sum() / x.sum(),\n",
    "           x.sum()))"
   ]
  },
  {
   "cell_type": "code",
   "execution_count": null,
   "metadata": {},
   "outputs": [],
   "source": [
    "def multiselect_value_counts(s):\n",
    "    'Count occurances of multiselect options'\n",
    "\n",
    "    opts = set(','.join(s.loc[s.notna()].tolist()).split(','))\n",
    "    \n",
    "    c = pd.Series(index=list(opts))\n",
    "    \n",
    "    for i, x in c.iteritems():\n",
    "        c.loc[i] = sum([i in str(y) for y in s])\n",
    "    \n",
    "    return c\n",
    "\n",
    "pd.DataFrame({'Total': multiselect_value_counts(pre['QID388']),\n",
    "              'Percent': multiselect_value_counts(pre['QID388'])/len(pre)})\\\n",
    "    .sort_values(by='Total', ascending=False)"
   ]
  },
  {
   "cell_type": "code",
   "execution_count": null,
   "metadata": {},
   "outputs": [],
   "source": [
    "print('{:.0%} of post-survey respondents participated in a MCLC'\n",
    "      .format((pst['QID389_p'] == 'yes').sum() / pst['QID389_p'].notna().sum()))\n",
    "\n",
    "mclc = pst_enr.loc[pst_enr['QID389_p'] == 'yes']\n",
    "\n",
    "print('{:.0%} of MCLC participants engaged (learners) in course'\n",
    "      .format(mclc['activity_learner'].sum() / len(mclc)))\n",
    "\n",
    "print('{:.0%} of MCLC participants completed course'\n",
    "      .format(mclc['activity_completed'].sum() / len(mclc)))\n",
    "\n",
    "print('Known MCLC participants made up {:.0%} of course completers'\n",
    "      .format(mclc['activity_completed'].sum() / enr_c['activity_completed'].sum()))"
   ]
  },
  {
   "cell_type": "code",
   "execution_count": null,
   "metadata": {},
   "outputs": [],
   "source": []
  }
 ],
 "metadata": {
  "anaconda-cloud": {},
  "hide_code_all_hidden": false,
  "kernelspec": {
   "display_name": "Python 3 (ipykernel)",
   "language": "python",
   "name": "python3"
  },
  "language_info": {
   "codemirror_mode": {
    "name": "ipython",
    "version": 3
   },
   "file_extension": ".py",
   "mimetype": "text/x-python",
   "name": "python",
   "nbconvert_exporter": "python",
   "pygments_lexer": "ipython3",
   "version": "3.7.15"
  }
 },
 "nbformat": 4,
 "nbformat_minor": 2
}
