{
 "cells": [
  {
   "cell_type": "markdown",
   "metadata": {},
   "source": [
    "# Setup for Supplemental Analysis"
   ]
  },
  {
   "cell_type": "code",
   "execution_count": null,
   "metadata": {},
   "outputs": [],
   "source": [
    "import pandas as pd\n",
    "import numpy as np\n",
    "\n",
    "import scipy.stats as stats\n",
    "\n",
    "import matplotlib.pyplot as plt\n",
    "from matplotlib.ticker import FuncFormatter\n",
    "import matplotlib.patches as mpatches\n",
    "from matplotlib.transforms import Bbox\n",
    "from matplotlib_venn import venn2, venn3\n",
    "\n",
    "import seaborn as sns\n",
    "\n",
    "from IPython.display import display, Markdown\n",
    "\n",
    "%matplotlib inline"
   ]
  },
  {
   "cell_type": "code",
   "execution_count": null,
   "metadata": {},
   "outputs": [],
   "source": [
    "# create output directory if it doesn't exist\n",
    "import os\n",
    "if not os.path.exists('plots'):\n",
    "   os.makedirs('plots')"
   ]
  },
  {
   "cell_type": "code",
   "execution_count": null,
   "metadata": {},
   "outputs": [],
   "source": [
    "# Load enrollments\n",
    "enr = pd.read_csv('data/enrollments_pub.csv', header=0)\n",
    "enr['one'] = 1.\n",
    "\n",
    "enr_adv = pd.read_csv('data/enrollments_adv_pub.csv', header=0)\n",
    "enr_adv['one'] = 1.\n",
    "\n",
    "# Load pre-surveys\n",
    "pre = pd.read_csv('data/pre_survey_pub.csv', header=0).dropna(axis=0, how='all')\n",
    "pre['one'] = 1.\n",
    "\n",
    "pre_gender = pd.read_csv('data/pre_survey_gender_pub.csv', header=0)\n",
    "pre_gender['one'] = 1.\n",
    "\n",
    "# Load post-surveys\n",
    "pst = pd.read_csv('data/pst_survey_pub.csv', header=0).dropna(axis=0, how='all')\n",
    "pst['one'] = 1.\n",
    "\n",
    "pst_demo = pd.read_csv('data/pst_survey_demo_pub.csv', header=0)\n",
    "pst_demo['one'] = 1.\n",
    "\n",
    "# # Load pre and post questions\n",
    "pre_q = pd.read_csv('data/pre_survey_question_info.csv',\n",
    "                    header=0, index_col=0)\n",
    "\n",
    "pst_q = pd.read_csv('data/pst_survey_question_info.csv',\n",
    "                    header=0, index_col=0)\n",
    "\n",
    "# pre survey countries of respondents\n",
    "precountry = pd.read_csv('data/pre_survey_country_counts.csv', header=0, index_col=0)"
   ]
  },
  {
   "cell_type": "code",
   "execution_count": null,
   "metadata": {},
   "outputs": [],
   "source": [
    "precountry.head()"
   ]
  },
  {
   "cell_type": "code",
   "execution_count": null,
   "metadata": {},
   "outputs": [],
   "source": [
    "enr['activity_quiz_count'] = enr[['activity_q{:d}'.format(i) for i in range(1, 7)]].sum(axis=1)\n",
    "enr['activity_pga_count'] = enr[['activity_pga{:d}'.format(i) for i in range(1, 4)]].sum(axis=1)\n",
    "enr['activity_vid_week_count'] = \\\n",
    "    (enr[['activity_vid_week_{:d}'.format(i) for i in range(1, 7)]] > 1).sum(axis=1)"
   ]
  },
  {
   "cell_type": "code",
   "execution_count": null,
   "metadata": {},
   "outputs": [],
   "source": [
    "enr['activity_auditor'] = enr['activity_learner'] & (~enr['activity_completed'])\n",
    "enr_adv['activity_auditor'] = enr_adv['activity_learner'] & (~enr_adv['activity_completed'])\n",
    "\n",
    "enr['learner_category'] = 'Non-learner'\n",
    "enr.loc[enr['activity_completed'] == 1, 'learner_category'] = 'Learner: completer'\n",
    "enr.loc[(enr['activity_auditor'] == 1) , 'learner_category'] = 'Learner: auditor'"
   ]
  },
  {
   "cell_type": "code",
   "execution_count": null,
   "metadata": {},
   "outputs": [],
   "source": [
    "# Intend to pursue academic job\n",
    "job_categories = {'Community college',\n",
    "                  'Research intensive university faculty position',\n",
    "                  'Undergraduate-focused college or university'}\n",
    "\n",
    "pre['academic_job'] = pre['QID363'].apply(lambda x: len(set(str(x).split(',')) & job_categories) > 0)\n",
    "\n",
    "# Intent to be active\n",
    "pre['intent_active'] = (pre['QID366'].apply(lambda x: 'complete most of the quizzes' in str(x)) |\n",
    "                        pre['QID366'].apply(lambda x: 'complete the peer assessments' in str(x)))"
   ]
  },
  {
   "cell_type": "code",
   "execution_count": null,
   "metadata": {},
   "outputs": [],
   "source": [
    "# Coursera courses (linked survey and completion stats)\n",
    "pre_c = pre[pre['course_name'].isin(['INTRO Fall 2014',\n",
    "                                     'INTRO Fall 2015'])]\n",
    "pst_c = pst[pst['course_name'].isin(['INTRO Fall 2014',\n",
    "                                     'INTRO Fall 2015'])]\n",
    "\n",
    "enr_c = enr[enr['course_name'].isin(['INTRO Fall 2014',\n",
    "                                     'INTRO Fall 2015'])]\n",
    "\n",
    "print('           Enrollments  Pre-surveys  Post-surveys')\n",
    "print('All INTRO:   {:9d}    {:9d}     {:9d}'.format(len(enr), len(pre), len(pst)))\n",
    "print('COURSERA:    {:9d}    {:9d}     {:9d}'.format(len(enr_c), len(pre_c), len(pst_c)))\n",
    "\n",
    "print('\\nINTRO: {:5.1f}% of students complete pre-survey'.format(100.*len(pre) / len(enr)))\n",
    "print('INTRO: {:5.1f}% of students complete post-survey'.format(100.*len(pst) / len(enr)))"
   ]
  },
  {
   "cell_type": "code",
   "execution_count": null,
   "metadata": {},
   "outputs": [],
   "source": [
    "# all Coursera\n",
    "\n",
    "coursera = enr_c.merge(pre_c, how=\"left\", on=\"unique_user_id\")\n",
    "coursera = coursera.merge(pst_c, how='left', on='unique_user_id')\n",
    "coursera['pre'] = [1 if x in pre_c.unique_user_id.values else 0 for x in coursera.unique_user_id]\n",
    "coursera['post'] = [1 if x in pst_c.unique_user_id.values else 0 for x in coursera.unique_user_id]\n",
    "coursera['CIRTL'] = coursera.QID355_p_x.combine_first(coursera.QID355_p_y)\n",
    "coursera['Role'] = coursera.QID334_p_x.combine_first(coursera.QID334_p_y)"
   ]
  },
  {
   "cell_type": "markdown",
   "metadata": {},
   "source": [
    "## Survey Participant Demographics"
   ]
  },
  {
   "cell_type": "code",
   "execution_count": null,
   "metadata": {},
   "outputs": [],
   "source": [
    "def reduce_categories(x, n):\n",
    "    'Reduce number of categories by collapsing least common into \"Other\"'\n",
    "    \n",
    "    cats = x.value_counts().sort_values(ascending=False).iloc[:n].index.tolist()\n",
    "    \n",
    "    y = pd.Series(index=x.index.copy())\n",
    "    y.loc[x.isin(cats)] = x.loc[x.isin(cats)]\n",
    "    y.loc[~x.isin(cats) & x.notna()] = 'Other'\n",
    "    \n",
    "    return y"
   ]
  },
  {
   "cell_type": "markdown",
   "metadata": {},
   "source": [
    "### Pre Survey/Enrolled"
   ]
  },
  {
   "cell_type": "code",
   "execution_count": null,
   "metadata": {},
   "outputs": [],
   "source": [
    "t = pd.concat([enr.groupby('course_name').sum()[['one', 'activity_learner']]\n",
    "               .transpose().rename(index={'one': 'Total enrolled', 'activity_learner': 'Learners'}),\n",
    "               pre.groupby('course_name').sum()[['one']]\n",
    "               .transpose().rename(index={'one': 'Pre-survey respondents'}),\n",
    "               pst.groupby('course_name').sum()[['one']]\n",
    "               .transpose().rename(index={'one': 'Post-survey respondents'})], axis=0).astype(int)\n",
    "t = t.append((t.loc['Pre-survey respondents']/t.loc['Total enrolled'])\n",
    "         .transpose().rename(\"Pre-survey respondents (% of enrolled)\"))\n",
    "\n",
    "t = t.append((precountry > 0).sum().rename('Countries'))\n",
    "t['Average'] = t.mean(axis=1)\n",
    "\n",
    "display(t.style.format(lambda x: \"{:.0%}\".format(x) if float(x) < 1 else int(x)))\n",
    "\n",
    "\n",
    "t.to_html('plots/overview_table.html', \n",
    "              float_format=lambda x: \"{:.0%}\".format(x) if float(x) < 1 else \"{}\".format(int(x)), \n",
    "                          na_rep=\"\")"
   ]
  },
  {
   "cell_type": "code",
   "execution_count": null,
   "metadata": {},
   "outputs": [],
   "source": [
    "t = t.transpose().drop(['Average']).transpose() # remove average column from above\n",
    "pre_t = []\n",
    "pre_t_names = []\n",
    "\n",
    "# CIRTL Inst: QID355\n",
    "pre_t_names.append('CIRTL')\n",
    "pre_t.append((pd.pivot_table(data=pre, columns='course_name', aggfunc='sum', values='one',\n",
    "                     index='QID355_p')\n",
    "              .iloc[[1, 0]]\n",
    "              / t.loc['Pre-survey respondents']))\n",
    "\n",
    "pre_t_names.append('Role')\n",
    "pre_t.append((pd.pivot_table(data=pre, columns='course_name', aggfunc='sum', values='one',\n",
    "                     index='QID334_p')\n",
    "              .loc[['Doctoral student', 'Post-doctoral researcher', 'Faculty', 'Other']]\n",
    "              / t.loc['Pre-survey respondents']))\n",
    "\n",
    "pre_t_names.append('Gender')\n",
    "pre_t.append((pd.pivot_table(data=pre_gender, columns='course_name', aggfunc='sum', values='one',\n",
    "                     index='QID376_p').loc[['Female', 'Male']]\n",
    "      / t.loc['Pre-survey respondents']))\n",
    "\n",
    "pre_t_names.append('Academic Job')\n",
    "pre_t.append((pd.pivot_table(data=pre, columns='course_name', aggfunc='sum', values='one',\n",
    "                     index='academic_job').iloc[[1, 0]]\n",
    "              / t.loc['Pre-survey respondents']))\n",
    "\n",
    "pre_t_names.append('MCLC')\n",
    "pre_t.append((pd.pivot_table(data=pre, columns='course_name', aggfunc='sum', values='one',\n",
    "                     index='QID367').loc[['Yes', 'No', \"I'm not sure\"]]\n",
    "              / t.loc['Pre-survey respondents']))\n",
    "\n",
    "# STEM/SBE field\n",
    "stemsbe = ['Biological Sciences', 'Physical Sciences', 'Engineering',\n",
    "           'Social Sciences', 'Mathematical Sciences',\n",
    "           'Earth, Atmospheric and Oceanic Sciences', 'Computer Science',\n",
    "           'Learning Sciences', 'Agricultural Sciences']\n",
    "pre_t_names.append('STEM/SBE')\n",
    "pre_t.append((pd.pivot_table(data=pre, columns='course_name', aggfunc='sum', values='one',\n",
    "                             index=pre['QID356'].isin(stemsbe))\n",
    "              .iloc[[1]]\n",
    "              / t.loc['Pre-survey respondents']))\n",
    "\n",
    "# Top 3 fields\n",
    "pre_t_names.append('Field')\n",
    "pre_t.append((pd.pivot_table(data=pre, columns='course_name', aggfunc='sum', values='one',\n",
    "                             index=reduce_categories(pre['QID356'], 3))\n",
    "              .loc[['Biological Sciences', 'Physical Sciences', 'Engineering', 'Other']]\n",
    "              / t.loc['Pre-survey respondents']))"
   ]
  },
  {
   "cell_type": "code",
   "execution_count": null,
   "metadata": {},
   "outputs": [],
   "source": [
    "sum_tab_pre = pd.concat(pre_t, axis=0, keys=pre_t_names)\n",
    "sum_tab_pre['avg'] = sum_tab_pre.mean(axis=1)\n",
    "\n",
    "display(sum_tab_pre.style.format('{:.1%}'))\n",
    "\n",
    "sum_tab_pre.to_html('plots/pre_table.html', \n",
    "                    float_format=lambda x: '{:.1%}'.format(x) if float(x) < 1 else \"{}\".format(int(x)), \n",
    "                          na_rep=\"\")"
   ]
  },
  {
   "cell_type": "markdown",
   "metadata": {
    "hideCode": false,
    "hidePrompt": false
   },
   "source": [
    "## Post-survey responses"
   ]
  },
  {
   "cell_type": "code",
   "execution_count": null,
   "metadata": {
    "hideCode": false,
    "hidePrompt": false
   },
   "outputs": [],
   "source": [
    "# 'Participated in an MCLC?' -> collapse \"yes, at my CIRTL institution\" and \"yes, at...\"\n",
    "pst_t = []\n",
    "\n",
    "pst_t.append((pd.pivot_table(data=pst, columns='course_name', aggfunc='sum', values='one',\n",
    "                             index='QID355_p')\n",
    "              .iloc[[1, 0]]\n",
    "              / t.loc['Post-survey respondents']))\n",
    "\n",
    "pst_t.append((pd.pivot_table(data=pst, columns='course_name', aggfunc='sum', values='one',\n",
    "                     index='QID334_p')\n",
    "              .loc[['Doctoral student', 'Post-doctoral researcher', 'Faculty', 'Other']]\n",
    "              / t.loc['Post-survey respondents']))\n",
    "\n",
    "pst_t.append((pd.pivot_table(data=pst_demo, columns='course_name', aggfunc='sum', values='one',\n",
    "                     index='QID376_p')\n",
    "              .loc[['Female', 'Male']]\n",
    "              / t.loc['Post-survey respondents']))\n",
    "\n",
    "pst_t.append((pd.pivot_table(data=pst_demo, columns='course_name', aggfunc='sum', values='one',\n",
    "                             index='QID400_p')\n",
    "              .loc[['Caucasian (non-Hispanic)', 'Asian/Pacific Islander', 'Other/Multiple']]\n",
    "              / t.loc['Post-survey respondents']))\n",
    "\n",
    "pst_t.append((pd.pivot_table(data=pst, columns='course_name', aggfunc='sum', values='one',\n",
    "                             index=pst['QID389_p'].replace('yes.*', 'yes', regex=True))\n",
    "              .loc[['yes', 'no']]\n",
    "              / t.loc['Post-survey respondents']))\n",
    "\n",
    "pst_t.append((pd.pivot_table(data=pst_demo, columns='course_name', aggfunc='sum', values='one',\n",
    "                             index=pst_demo['QID399_p']).iloc[[1,0]]\n",
    "              / t.loc['Post-survey respondents']))"
   ]
  },
  {
   "cell_type": "code",
   "execution_count": null,
   "metadata": {
    "hideCode": false,
    "hidePrompt": false
   },
   "outputs": [],
   "source": [
    "sum_tab_pst = pd.concat(pst_t, axis=0,\n",
    "                        keys=['CIRTL', 'Role', 'Gender', 'Ethnicity', 'MCLC', 'Citizenship'])\n",
    "sum_tab_pst['avg'] = sum_tab_pst.mean(axis=1)\n",
    "\n",
    "display(sum_tab_pst.style.format(lambda x: \"{:.1%}\".format(x) if not pd.isnull(x) else \"\"))"
   ]
  },
  {
   "cell_type": "code",
   "execution_count": null,
   "metadata": {},
   "outputs": [],
   "source": [
    "pst_out = sum_tab_pst.copy()\n",
    "pst_out.index = pst_out.index.droplevel()\n",
    "(100*pst_out).to_html('plots/post_table.html', float_format=\"%.1f%%\", na_rep=\"\")"
   ]
  },
  {
   "cell_type": "markdown",
   "metadata": {},
   "source": [
    "## Course Activity"
   ]
  },
  {
   "cell_type": "markdown",
   "metadata": {},
   "source": [
    "### Any Activity"
   ]
  },
  {
   "cell_type": "code",
   "execution_count": null,
   "metadata": {},
   "outputs": [],
   "source": [
    "activity_any = ((enr['activity_quiz_count'] > 0) |\n",
    "                (enr['activity_pga_count'] > 0) |\n",
    "                (enr['activity_vid_count'] > 0))\n",
    "print('{:.1f}% of those enrolled do at least 1 (quiz|video|pga)'\n",
    "      .format(100.*activity_any.sum() / len(enr)))"
   ]
  },
  {
   "cell_type": "markdown",
   "metadata": {},
   "source": [
    "### Quizzes"
   ]
  },
  {
   "cell_type": "code",
   "execution_count": null,
   "metadata": {},
   "outputs": [],
   "source": [
    "q_cols = ['activity_q{:d}'.format(i) for i in range(1, 7)]\n",
    "\n",
    "fig, ax = plt.subplots(ncols=2, figsize=(8, 3))\n",
    "\n",
    "(1.*(enr[activity_any]['activity_quiz_count'].value_counts().sort_index()\n",
    "       / activity_any.sum())).plot(kind='bar', ax=ax[0], color='C0', rot=0)\n",
    "\n",
    "ax[0].yaxis.set_major_formatter(FuncFormatter(lambda x, _: '{:.0%}'.format(x)))\n",
    "\n",
    "ax[0].set_xlabel('Number of quizzes completed')\n",
    "ax[0].set_ylabel('Percent of participants')\n",
    "\n",
    "ax[0].set_ylim(0,.6)\n",
    "ax[0].set_facecolor(\"white\")\n",
    "ax[0].spines[\"top\"].set_visible(False)\n",
    "ax[0].spines[\"right\"].set_visible(False)\n",
    "ax[0].spines[\"left\"].set_visible(False)\n",
    "ax[0].grid(False)\n",
    "ax[0].set_axisbelow(True)\n",
    "ax[0].grid(which=\"major\", axis=\"y\", color=\"#cccccc\")\n",
    "\n",
    "\n",
    "enr[q_cols].sum().rename(index=lambda x: x[-1])\\\n",
    "    .plot(kind='bar', color='C0', ax=ax[1], rot=0)\n",
    "\n",
    "ax[1].set_xlabel('Quiz number')\n",
    "ax[1].set_ylabel('Number of attempters')\n",
    "\n",
    "ax[1].set_ylim(0,3500)\n",
    "ax[1].set_facecolor(\"white\")\n",
    "ax[1].spines[\"top\"].set_visible(False)\n",
    "ax[1].spines[\"right\"].set_visible(False)\n",
    "ax[1].spines[\"left\"].set_visible(False)\n",
    "ax[1].grid(False)\n",
    "ax[1].set_axisbelow(True)\n",
    "ax[1].grid(which=\"major\", axis=\"y\", color=\"#cccccc\")\n",
    "\n",
    "ax[0].xaxis.set_ticks_position('none') \n",
    "ax[1].xaxis.set_ticks_position('none') \n",
    "ax[0].yaxis.set_ticks_position('none') \n",
    "ax[1].yaxis.set_ticks_position('none') \n",
    "\n",
    "plt.tight_layout(w_pad=4);\n",
    "plt.savefig(\"plots/Fig-S1-quizzes.png\")\n",
    "plt.savefig(\"plots/Fig-S1-quizzes.svg\")"
   ]
  },
  {
   "cell_type": "code",
   "execution_count": null,
   "metadata": {},
   "outputs": [],
   "source": [
    "(1.*(enr[activity_any]['activity_quiz_count'].value_counts().sort_index()\n",
    "       / activity_any.sum())).to_csv('plots/num_quizzes.csv')\n",
    "\n",
    "enr[q_cols].sum().rename(index=lambda x: x[-1]).to_csv('plots/quiz_takers.csv')"
   ]
  },
  {
   "cell_type": "code",
   "execution_count": null,
   "metadata": {},
   "outputs": [],
   "source": [
    "x = enr.loc[enr['activity_quiz_count'] >= 2, 'activity_quiz_count'] == 6\n",
    "\n",
    "print('Of those who complete >=2 quizzes, {:.1%} complete all 6.'\n",
    "      .format(1.*x.sum() / len(x)))"
   ]
  },
  {
   "cell_type": "markdown",
   "metadata": {},
   "source": [
    "### Videos"
   ]
  },
  {
   "cell_type": "code",
   "execution_count": null,
   "metadata": {
    "hideCode": false,
    "hidePrompt": false
   },
   "outputs": [],
   "source": [
    "vid_wk_cols = ['activity_vid_week_{:d}'.format(i) for i in range(1, 7)]\n",
    "\n",
    "activity_vid_week_fraction = \\\n",
    "    enr.groupby('course_name')[vid_wk_cols].apply(lambda x: x/x.max())"
   ]
  },
  {
   "cell_type": "code",
   "execution_count": null,
   "metadata": {
    "hideCode": false,
    "hidePrompt": false
   },
   "outputs": [],
   "source": [
    "cb = sns.color_palette('Blues', 3)\n",
    "\n",
    "fig, ax = plt.subplots(ncols=2, figsize=(8, 3))\n",
    "\n",
    "bins = [0.001, 0.2, 0.8, 1.01]\n",
    "labels = ['> 0 and < 20% of videos', '20%-80% of videos', '> 80% of videos']\n",
    "\n",
    "t = activity_vid_week_fraction.fillna(0)\\\n",
    "    .apply(lambda c: pd.cut(c, bins=bins,\n",
    "                            labels=labels)\\\n",
    "    .value_counts()).loc[labels]\\\n",
    "    .transpose().rename(index=lambda x: x[-1])\n",
    "t = t/len(enr[activity_any])\n",
    "\n",
    "b1 = ax[0].bar(t.index, t[labels[0]], color=cb[0]) \n",
    "b2 = ax[0].bar(t.index, t[labels[1]], bottom=t[labels[0]], color=cb[1])\n",
    "b3 = ax[0].bar(t.index, t[labels[2]], bottom=t[labels[0]]+t[labels[1]], color=cb[2])\n",
    "   \n",
    "ax[0].set_xlabel('Module/Week number')\n",
    "ax[0].set_ylabel('Participants watching a video')\n",
    "\n",
    "leg = ax[0].legend([b3[0], b2[0], b1[0]], \n",
    "             labels[::-1], \n",
    "             title='Percent of module videos watched', loc=\"lower center\", facecolor=\"white\", framealpha=0,\n",
    "             bbox_to_anchor=(0, -.7, 1, .4), \n",
    "             mode=\"expand\", borderaxespad=0.)\n",
    "leg._legend_box.align = \"left\"\n",
    "\n",
    "ax[0].yaxis.set_major_formatter(FuncFormatter(lambda x, _: '{:.0%}'.format(x)))\n",
    "ax[0].set_ylim([0., 1])\n",
    "\n",
    "ax[0].set_facecolor(\"white\")\n",
    "ax[0].spines[\"top\"].set_visible(False)\n",
    "ax[0].spines[\"right\"].set_visible(False)\n",
    "ax[0].spines[\"left\"].set_visible(False)\n",
    "ax[0].grid(False)\n",
    "ax[0].set_axisbelow(True)\n",
    "ax[0].grid(which=\"major\", axis=\"y\", color=\"#cccccc\")\n",
    "\n",
    "prop_videos=100*(enr.activity_vid_count / enr.groupby('course_name').activity_vid_count.transform(np.max))\n",
    "prop_videos[activity_any].hist(bins=10, density=True, ax=ax[1], color='gray')\n",
    "\n",
    "ax[1].yaxis.set_major_formatter(FuncFormatter(lambda x, _: '{:.0%}'.format(x)))\n",
    "ax[1].set_xlim([0., 100.])\n",
    "ax[1].set_ylim([0., .05])\n",
    "ax[1].set_xticks(range(0, 101, 20))\n",
    "ax[1].set_xticklabels(['0%', '20%', '40%', '60%', '80%', '100%'])\n",
    "ax[1].set_yticklabels(['0%', '10%', '20%', '30%', '40%', '50%'])\n",
    "\n",
    "ax[1].set_xlabel('Percentage of all videos watched')\n",
    "ax[1].set_ylabel('Percentage of participants')\n",
    "\n",
    "ax[1].set_facecolor(\"white\")\n",
    "ax[1].spines[\"top\"].set_visible(False)\n",
    "ax[1].spines[\"right\"].set_visible(False)\n",
    "ax[1].spines[\"left\"].set_visible(False)\n",
    "ax[1].grid(False)\n",
    "ax[1].set_axisbelow(True)\n",
    "ax[1].grid(which=\"major\", axis=\"y\", color=\"#cccccc\")\n",
    "\n",
    "ax[0].xaxis.set_ticks_position('none') \n",
    "#ax[1].xaxis.set_ticks_position('none') \n",
    "ax[0].yaxis.set_ticks_position('none') \n",
    "ax[1].yaxis.set_ticks_position('none') \n",
    "\n",
    "plt.subplots_adjust(wspace=.4)\n",
    "plt.savefig(\"plots/Fig-S2-videos.png\", bbox_extra_artists=(leg,), bbox_inches='tight')\n",
    "plt.savefig(\"plots/Fig-S2-videos.svg\", bbox_extra_artists=(leg,), bbox_inches='tight')"
   ]
  },
  {
   "cell_type": "code",
   "execution_count": null,
   "metadata": {},
   "outputs": [],
   "source": [
    "pd.cut(prop_videos[activity_any]/100, [0, 0.001, 0.1, 0.2, 0.8, 1.01]).value_counts()/len(prop_videos[activity_any])"
   ]
  },
  {
   "cell_type": "code",
   "execution_count": null,
   "metadata": {},
   "outputs": [],
   "source": [
    "# output data\n",
    "t.to_csv(\"plots/module_video_props.csv\", header=True)\n",
    "    \n",
    "(pd.cut(prop_videos[activity_any], \n",
    "        range(0,101,10)).value_counts()/len(prop_videos[activity_any])).to_csv(\"plots/videos_watched.csv\")"
   ]
  },
  {
   "cell_type": "markdown",
   "metadata": {},
   "source": [
    "### PGAs"
   ]
  },
  {
   "cell_type": "code",
   "execution_count": null,
   "metadata": {
    "hideCode": false,
    "hidePrompt": false
   },
   "outputs": [],
   "source": [
    "fig, ax = plt.subplots(ncols=2, figsize=(8, 3))\n",
    "\n",
    "display(100.*enr.loc[activity_any, 'activity_pga_count'].value_counts().sort_index() / activity_any.sum())\n",
    "\n",
    "(1.*enr.loc[enr['activity_pga_count'] > 0, 'activity_pga_count'].value_counts().sort_index() / activity_any.sum())\\\n",
    "    .plot(kind='bar', color='C0', ax=ax[0], rot=0)\n",
    "\n",
    "ax[0].yaxis.set_major_formatter(FuncFormatter(lambda x, _: '{:.0%}'.format(x)))\n",
    "\n",
    "ax[0].set_xlabel('Number of PGAs completed')\n",
    "ax[0].set_ylabel('Percent of participants');\n",
    "ax[0].set_ylim([0,.07])\n",
    "\n",
    "ax[0].set_facecolor(\"white\")\n",
    "ax[0].spines[\"top\"].set_visible(False)\n",
    "ax[0].spines[\"right\"].set_visible(False)\n",
    "ax[0].spines[\"left\"].set_visible(False)\n",
    "ax[0].grid(False)\n",
    "ax[0].set_axisbelow(True)\n",
    "ax[0].grid(which=\"major\", axis=\"y\", color=\"#cccccc\")\n",
    "\n",
    "pga_cols = ['activity_pga{:d}'.format(i) for i in range(1, 4)]\n",
    "enr[pga_cols].sum().rename(index=lambda x: x[-1]).plot(kind='bar', color='C0', rot=0)\n",
    "\n",
    "ax[1].set_xlabel('PGA number')\n",
    "ax[1].set_ylabel('Number of attempters')\n",
    "\n",
    "ax[1].set_ylim([0,1000.])\n",
    "\n",
    "ax[1].set_facecolor(\"white\")\n",
    "ax[1].spines[\"top\"].set_visible(False)\n",
    "ax[1].spines[\"right\"].set_visible(False)\n",
    "ax[1].spines[\"left\"].set_visible(False)\n",
    "ax[1].grid(False)\n",
    "ax[1].set_axisbelow(True)\n",
    "ax[1].grid(which=\"major\", axis=\"y\", color=\"#cccccc\")\n",
    "\n",
    "ax[0].xaxis.set_ticks_position('none') \n",
    "ax[1].xaxis.set_ticks_position('none') \n",
    "ax[0].yaxis.set_ticks_position('none') \n",
    "ax[1].yaxis.set_ticks_position('none') \n",
    "\n",
    "plt.tight_layout(w_pad=4)\n",
    "plt.savefig(\"plots/Fig-S3-pgas.png\")\n",
    "plt.savefig(\"plots/Fig-S3-pgas.svg\")"
   ]
  },
  {
   "cell_type": "code",
   "execution_count": null,
   "metadata": {},
   "outputs": [],
   "source": [
    "# output data\n",
    "(1.*enr.loc[enr['activity_pga_count'] > 0, \n",
    "            'activity_pga_count'].value_counts().sort_index() / activity_any.sum()).to_csv(\"plots/num_pgas.csv\")\n",
    "    \n",
    "(enr[pga_cols].sum().rename(index=lambda x: x[-1])).to_csv(\"plots/pga_takers.csv\")"
   ]
  },
  {
   "cell_type": "code",
   "execution_count": null,
   "metadata": {},
   "outputs": [],
   "source": [
    "cb = sns.color_palette('Blues', 2)\n",
    "\n",
    "def hist_pga_data(data, count_col):\n",
    "    x = pd.pivot_table(data=data,\n",
    "                       index=count_col, columns='any_pga',\n",
    "                       aggfunc='count', values='one')\n",
    "    return (x / x.sum())\n",
    "\n",
    "def hist_pga(data, count_col, ax):\n",
    "    'Plot conditional histogram of count_col for PGA attempters vs. non-attempters'\n",
    "\n",
    "    hist_pga_data(data, count_col).plot(kind='bar', ax=ax, rot=0, width=.8, color=cb)\n",
    "    \n",
    "    ax.set_ylabel('Percent of grouped participants')\n",
    "    ax.yaxis.set_major_formatter(FuncFormatter(lambda x, _: '{:.0%}'.format(x)))\n",
    "\n",
    "# TODO\n",
    "enr_tmp = enr.copy()\n",
    "enr_tmp['any_pga'] = 1.*(enr['activity_pga_count'] > 0)\n",
    "\n",
    "fig, ax = plt.subplots(ncols=2, figsize=(8, 2.5))\n",
    "\n",
    "hist_pga(enr_tmp[activity_any], count_col='activity_quiz_count', ax=ax[0])\n",
    "hist_pga(enr_tmp[activity_any], count_col='activity_vid_week_count', ax=ax[1])\n",
    "\n",
    "ax[0].set_ylim([0,.8])\n",
    "ax[1].set_ylim([0,.8])\n",
    "\n",
    "ax[0].set_xlabel('Number of quizzes attempted')\n",
    "ax[1].set_xlabel('Number of modules watching videos')\n",
    "\n",
    "l1 = ax[0].legend(['Did not attempt a PGA', 'Completed at least one PGA'],\n",
    "             loc='lower center', title='', facecolor=\"white\", framealpha=0,\n",
    "             bbox_to_anchor=(0, -.6, 1, .4), \n",
    "             mode=\"expand\", borderaxespad=0.)\n",
    "l2 = ax[1].legend(['Did not attempt a PGA', 'Completed at least one PGA'],\n",
    "             loc='lower center', title='', facecolor=\"white\", framealpha=0,\n",
    "             bbox_to_anchor=(0, -.6, 1, .4), \n",
    "             mode=\"expand\", borderaxespad=0.)\n",
    "\n",
    "ax[0].set_facecolor(\"white\")\n",
    "ax[0].spines[\"top\"].set_visible(False)\n",
    "ax[0].spines[\"right\"].set_visible(False)\n",
    "ax[0].spines[\"left\"].set_visible(False)\n",
    "ax[0].grid(False)\n",
    "ax[0].set_axisbelow(True)\n",
    "ax[0].grid(which=\"major\", axis=\"y\", color=\"#cccccc\")\n",
    "\n",
    "ax[1].set_facecolor(\"white\")\n",
    "ax[1].spines[\"top\"].set_visible(False)\n",
    "ax[1].spines[\"right\"].set_visible(False)\n",
    "ax[1].spines[\"left\"].set_visible(False)\n",
    "ax[1].grid(False)\n",
    "ax[1].set_axisbelow(True)\n",
    "ax[1].grid(which=\"major\", axis=\"y\", color=\"#cccccc\")\n",
    "\n",
    "ax[0].xaxis.set_ticks_position('none') \n",
    "ax[1].xaxis.set_ticks_position('none') \n",
    "ax[0].yaxis.set_ticks_position('none') \n",
    "ax[1].yaxis.set_ticks_position('none') \n",
    "\n",
    "\n",
    "plt.subplots_adjust(wspace=.4)\n",
    "plt.savefig(\"plots/Fig-S4-pgas_other.png\", bbox_extra_artists=(l1, l2,), bbox_inches='tight')\n",
    "plt.savefig(\"plots/Fig-S4-pgas_other.svg\", bbox_extra_artists=(l1, l2,), bbox_inches='tight')"
   ]
  },
  {
   "cell_type": "code",
   "execution_count": null,
   "metadata": {},
   "outputs": [],
   "source": [
    "# output data\n",
    "hist_pga_data(enr_tmp[activity_any], \n",
    "              count_col='activity_quiz_count').to_csv(\"plots/num_quizzes_pga.csv\", header=True)\n",
    "    \n",
    "hist_pga_data(enr_tmp[activity_any], \n",
    "              count_col='activity_vid_week_count').to_csv(\"plots/num_vid_modules_pga.csv\", header=True)"
   ]
  },
  {
   "cell_type": "code",
   "execution_count": null,
   "metadata": {},
   "outputs": [],
   "source": [
    "pd.read_csv(\"plots/num_quizzes_pga.csv\")"
   ]
  },
  {
   "cell_type": "code",
   "execution_count": null,
   "metadata": {},
   "outputs": [],
   "source": [
    "pd.read_csv(\"plots/num_vid_modules_pga.csv\")"
   ]
  },
  {
   "cell_type": "markdown",
   "metadata": {},
   "source": [
    "Likelihood of completing by PGA attempt status"
   ]
  },
  {
   "cell_type": "code",
   "execution_count": null,
   "metadata": {},
   "outputs": [],
   "source": [
    "x = pd.pivot_table(data=enr_tmp[activity_any],\n",
    "                   index='activity_completed', columns='any_pga',\n",
    "                   aggfunc='count', values='one')\n",
    "x"
   ]
  },
  {
   "cell_type": "code",
   "execution_count": null,
   "metadata": {},
   "outputs": [],
   "source": [
    "(x[1][1]/x[1].sum())/(x[0][1]/x[0].sum())"
   ]
  },
  {
   "cell_type": "markdown",
   "metadata": {},
   "source": [
    "## Learners"
   ]
  },
  {
   "cell_type": "code",
   "execution_count": null,
   "metadata": {},
   "outputs": [],
   "source": [
    "# Each entry is a user in a module\n",
    "x = activity_vid_week_fraction.stack()[enr[vid_wk_cols].stack() > 1]\n",
    "\n",
    "thresh = 0.5\n",
    "print('{:.0%} of those who watch more than 1 video watch {:.0%} of the videos in a module'\\\n",
    "      .format(1.*(x > thresh).sum() / len(x), thresh))"
   ]
  },
  {
   "cell_type": "code",
   "execution_count": null,
   "metadata": {},
   "outputs": [],
   "source": [
    "print( '{:.0%} of PGA attempters also meet quiz and video criteria'\\\n",
    "    .format(1.*((enr['activity_pga_count'] > 0) &\n",
    "                (enr['activity_quiz_count'] >= 2) &\n",
    "                (enr['activity_vid_week_count'] >= 3)).sum() /\n",
    "            (enr['activity_pga_count'] > 0).sum()))"
   ]
  },
  {
   "cell_type": "code",
   "execution_count": null,
   "metadata": {},
   "outputs": [],
   "source": [
    "id_vid = set(enr.loc[enr['activity_vid_week_count'] >= 3, 'unique_user_id'])\n",
    "id_quiz = set(enr.loc[enr['activity_quiz_count'] >= 2, 'unique_user_id'])\n",
    "id_pga = set(enr.loc[enr['activity_pga_count'] > 0, 'unique_user_id'])\n",
    "\n",
    "venn3([id_vid, id_quiz, id_pga], ['>2 video modules', '>1 quiz', '>0 PGAs']);\n",
    "plt.tight_layout()\n",
    "plt.savefig(\"plots/Fig-S5-venn.png\")\n",
    "plt.savefig(\"plots/Fig-S5-venn.svg\")"
   ]
  },
  {
   "cell_type": "code",
   "execution_count": null,
   "metadata": {},
   "outputs": [],
   "source": [
    "# output data\n",
    "pd.DataFrame([id_vid, id_quiz, id_pga]).transpose()\\\n",
    "    .rename(columns={0:'> 2 video modules',1:'>1 quiz', 2:'>0 PGAs'}).to_csv(\"plots/learner_venn.csv\", \n",
    "                                                                             header=True, index=False)"
   ]
  },
  {
   "cell_type": "code",
   "execution_count": null,
   "metadata": {},
   "outputs": [],
   "source": [
    "print('{:.0%} of learners only meet the definition based on watching videos.'\\\n",
    "    .format(1.*(enr['activity_learner'] &\n",
    "            (enr['activity_quiz_count'] < 2) &\n",
    "            (enr['activity_pga_count'] == 0)).sum() / enr['activity_learner'].sum()))"
   ]
  },
  {
   "cell_type": "code",
   "execution_count": null,
   "metadata": {},
   "outputs": [],
   "source": [
    "g1 = enr[(enr['activity_quiz_count']>2) | (enr['activity_pga_count']>1)]\n",
    "print(\"{:.0%} of people who attempt at least two quizzes or 1 PGA ultimately complete the course; this is {:.0%} of total learners.\"\\\n",
    "      .format(g1[g1['activity_completed']==1].shape[0]/g1.shape[0],\n",
    "             g1[g1['activity_completed']==1].shape[0]/enr[enr['activity_learner']==1].shape[0]))"
   ]
  },
  {
   "cell_type": "markdown",
   "metadata": {},
   "source": [
    "### Auditors vs. Completers"
   ]
  },
  {
   "cell_type": "code",
   "execution_count": null,
   "metadata": {},
   "outputs": [],
   "source": [
    "cb = sns.color_palette('Blues', 2)\n",
    "\n",
    "def hist_learner_data(data, count_col):\n",
    "    x = pd.pivot_table(data=data,\n",
    "                       index=count_col, columns='learner_category',\n",
    "                       aggfunc='count', values='one')\n",
    "    \n",
    "    return (x / x.sum())\n",
    "\n",
    "def hist_learner(data, count_col, ax):\n",
    "\n",
    "    hist_learner_data(data, count_col).plot(kind='bar', ax=ax, rot=0, width=.8, color=cb)\n",
    "    \n",
    "    ax.set_ylabel('Percent of grouped participants')\n",
    "    ax.yaxis.set_major_formatter(FuncFormatter(lambda x, _: '{:.0%}'.format(x)))\n",
    "\n",
    "fig, ax = plt.subplots(figsize=(4,3))\n",
    "\n",
    "hist_learner(enr[enr['activity_learner']==1], count_col='activity_vid_week_count', ax=ax)\n",
    "\n",
    "ax.set_yticks([0,.1,.2,.3,.4,.5,.6,.7,.8])\n",
    "ax.set_xlabel('Number of modules watching videos')\n",
    "\n",
    "\n",
    "l1 = ax.legend(title='', framealpha=1, facecolor=\"white\")\n",
    "l1.get_frame().set_linewidth(0.0)\n",
    "\n",
    "ax.set_facecolor(\"white\")\n",
    "ax.spines[\"top\"].set_visible(False)\n",
    "ax.spines[\"right\"].set_visible(False)\n",
    "ax.spines[\"left\"].set_visible(False)\n",
    "ax.grid(False)\n",
    "ax.set_axisbelow(True)\n",
    "ax.grid(which=\"both\", axis=\"y\", color=\"#cccccc\")\n",
    "\n",
    "ax.xaxis.set_ticks_position('none') \n",
    "ax.yaxis.set_ticks_position('none') \n",
    "\n",
    "plt.tight_layout()\n",
    "plt.savefig(\"plots/Fig-S6-learner_comp.png\")\n",
    "plt.savefig(\"plots/Fig-S6-learner_comp.svg\")"
   ]
  },
  {
   "cell_type": "code",
   "execution_count": null,
   "metadata": {},
   "outputs": [],
   "source": [
    "# output data\n",
    "hist_learner_data(enr[enr['activity_learner']==1], \n",
    "                  count_col='activity_vid_week_count').to_csv(\"plots/vid_modules_learners.csv\", header=True)"
   ]
  },
  {
   "cell_type": "markdown",
   "metadata": {},
   "source": [
    "## Completers"
   ]
  },
  {
   "cell_type": "code",
   "execution_count": null,
   "metadata": {},
   "outputs": [],
   "source": [
    "# how people complete\n",
    "display(pd.crosstab(enr[enr['activity_completed']==1]['activity_quiz_count'], \n",
    "            enr[enr['activity_completed']==1]['activity_pga_count'], \n",
    "           normalize='all').style.format('{:.1%}'))\n",
    "\n",
    "# output data\n",
    "with open(\"plots/completers_quiz_pga.html\", \"w\") as of:\n",
    "    pd.crosstab(enr[enr['activity_completed']==1]['activity_quiz_count'], \n",
    "            enr[enr['activity_completed']==1]['activity_pga_count'], \n",
    "           normalize='all').to_html(of, header=True)"
   ]
  },
  {
   "cell_type": "markdown",
   "metadata": {},
   "source": [
    "# Course Activity of Survey Respondents"
   ]
  },
  {
   "cell_type": "markdown",
   "metadata": {},
   "source": [
    "## Intro "
   ]
  },
  {
   "cell_type": "code",
   "execution_count": null,
   "metadata": {},
   "outputs": [],
   "source": [
    "id_all = set(enr_c['unique_user_id'])\n",
    "\n",
    "id_pre = set(pre_c['unique_user_id'])\n",
    "id_pst = set(pst_c['unique_user_id'])\n",
    "\n",
    "id_completers = set(enr_c.loc[enr['activity_completed'] == 1, 'unique_user_id'])\n",
    "id_learners = set(enr_c.loc[enr['activity_learner'] == 1, 'unique_user_id'])\n",
    "\n",
    "id_auditers = set(enr_c.loc[enr['activity_auditor'] == 1, 'unique_user_id'])\n",
    "\n",
    "\n",
    "fig, ax = plt.subplots(ncols=2, figsize=(11, 4.5))\n",
    "\n",
    "\n",
    "venn3([id_pre, id_learners, id_completers],\n",
    "      ['Pre-surveys', 'Learners', 'Completers'], ax=ax[0]);\n",
    "\n",
    "venn3([id_pst, id_learners, id_completers],\n",
    "      ['Post-survey', 'Learners', 'Completers'], ax=ax[1]);\n",
    "\n",
    "plt.tight_layout()\n",
    "plt.savefig(\"plots/Fig-S7-pre_post_venn.png\")\n",
    "plt.savefig(\"plots/Fig-S7-pre_post_venn.svg\")"
   ]
  },
  {
   "cell_type": "code",
   "execution_count": null,
   "metadata": {},
   "outputs": [],
   "source": [
    "# output data\n",
    "pd.DataFrame([id_pre, id_learners, id_completers]).transpose()\\\n",
    ".rename(columns={0:'pre',1:'learners', 2:'completers'}).to_csv(\"plots/pre_survey_venn.csv\", \n",
    "                                                               header=True, index=False)\n",
    "    \n",
    "pd.DataFrame([id_pst, id_learners, id_completers]).transpose()\\\n",
    "    .rename(columns={0:'post',1:'learners', 2:'completers'}).to_csv(\"plots/post_survey_venn.csv\", \n",
    "                                                                    header=True, index=False)"
   ]
  },
  {
   "cell_type": "code",
   "execution_count": null,
   "metadata": {},
   "outputs": [],
   "source": [
    "# % who took the pre-course survey and then did not engage: intended to engage\n",
    "b1 = coursera[(coursera['activity_learner']==0) & (coursera['pre']==1)]\n",
    "print(b1[b1['intent_active']==1].shape[0]/b1.shape[0])\n",
    "\n",
    "# % who took the pre-course survey and then learner: intended to engage\n",
    "b1 = coursera[(coursera['activity_learner']==1) & (coursera['pre']==1)]\n",
    "print(b1[b1['intent_active']==1].shape[0]/b1.shape[0])"
   ]
  },
  {
   "cell_type": "markdown",
   "metadata": {},
   "source": [
    "### Learner Demographics"
   ]
  },
  {
   "cell_type": "code",
   "execution_count": null,
   "metadata": {},
   "outputs": [],
   "source": [
    "grpcount = coursera[coursera.pre==1]['learner_category'].value_counts()\n",
    "\n",
    "t = pd.DataFrame(grpcount).transpose().rename(index={'learner_category':'Count'})\n",
    "t = t.append(grpcount/coursera[coursera.pre==1].shape[0], sort=True)\\\n",
    ".rename(index={'learner_category':'% of Pre-survey Respondents'})\n",
    "t = t.append(pd.pivot_table(data=coursera[coursera.pre==1], columns='learner_category', aggfunc='count',\n",
    "                             values='unique_user_id', index='CIRTL').div(grpcount).iloc[[1,0]])\n",
    "\n",
    "t = t.append(pd.pivot_table(data=coursera[coursera.pre==1], columns='learner_category', aggfunc='count',\n",
    "                             values='unique_user_id', index='Role').div(grpcount)\\\n",
    "             .loc[['Doctoral student', 'Post-doctoral researcher', 'Faculty', 'Other']])\n",
    "\n",
    "t = t.append(pd.pivot_table(data=coursera[coursera.pre==1], columns='learner_category', aggfunc='count',\n",
    "                             values='unique_user_id', index='academic_job').div(grpcount).iloc[[1,0]])\n",
    "\n",
    "t = t.append(pd.pivot_table(data=coursera[coursera.pre==1], columns='learner_category', aggfunc='count',\n",
    "                             values='unique_user_id', index='QID367').div(grpcount).iloc[[2,1,0]])\n",
    "\n",
    "t['Category'] = ['','','CIRTL','CIRTL', 'Role','Role','Role','Role',  \n",
    "                 'Preparing to teach', 'Preparing to teach','MCLC Intent','MCLC Intent','MCLC Intent']\n",
    "t.index.name='Value'\n",
    "t.set_index('Category', append=True, inplace=True)\n",
    "t = t.reorder_levels(['Category', 'Value'])\n",
    "#\n",
    "#sum_tab_pst['avg'] = sum_tab_pst.mean(axis=1)\n",
    "\n",
    "def f1(x):\n",
    "    return \"{:.0%}\".format(x) if x<1 else \"{}\".format(int(x))\n",
    "\n",
    "display(t.style.format(lambda x: \"{:.0%}\".format(x) if x<1 else int(x)))\n",
    "\n",
    "with open('plots/learner_table.html', 'w') as of:\n",
    "    t.to_html(of, float_format=f1)"
   ]
  },
  {
   "cell_type": "markdown",
   "metadata": {
    "hideCode": false,
    "hidePrompt": false
   },
   "source": [
    "### Motivations for taking the course\n",
    "#### Fraction ranking \"Important\" or \"Very important\""
   ]
  },
  {
   "cell_type": "code",
   "execution_count": null,
   "metadata": {
    "hideCode": false,
    "hidePrompt": false
   },
   "outputs": [],
   "source": [
    "pre_intent = pre.filter(axis='columns', like='QID371').rename(columns=pre_q['short'])\n",
    "\n",
    "((pre_intent >= 2).sum() / pre_intent.notna().sum()).sort_values(ascending=False)"
   ]
  },
  {
   "cell_type": "code",
   "execution_count": null,
   "metadata": {},
   "outputs": [],
   "source": [
    "with open('plots/motivations_table.html', 'w') as of:\n",
    "    pd.DataFrame(((pre_intent >= 2).sum() / pre_intent.notna().sum()).sort_values(ascending=False)).to_html(of, header=False)"
   ]
  },
  {
   "cell_type": "markdown",
   "metadata": {
    "hideCode": false,
    "hidePrompt": false
   },
   "source": [
    "#### Grouped by engagement level\n",
    "\n",
    "Plots not included in supplemental"
   ]
  },
  {
   "cell_type": "code",
   "execution_count": null,
   "metadata": {
    "hideCode": false,
    "hidePrompt": false
   },
   "outputs": [],
   "source": [
    "cb = sns.color_palette('Blues_r', 3)\n",
    "cr = sns.color_palette('Reds', 2)\n",
    "\n",
    "fig, ax = plt.subplots(figsize=(7, 3))\n",
    "coursera.groupby('learner_category').mean().filter(axis='columns', like='QID371_')\\\n",
    "    .dropna(axis='columns')\\\n",
    "    .rename(columns=pre_q['short'])\\\n",
    "    .transpose().sort_values(by='Non-learner')\\\n",
    "    .plot(kind='barh', color=[cb[0], cb[1], cr[0]], ax=ax)\n",
    "\n",
    "ax.legend().set_title('')\n",
    "ax.set_xlim([0., 3.])\n",
    "ax.set_xticks(np.arange(0., 3.1, 0.5))\n",
    "ax.set_xticklabels(['Not at all important', '', 'Moderately important', '',\n",
    "                    'Important', '', 'Very important']);"
   ]
  },
  {
   "cell_type": "markdown",
   "metadata": {
    "hideCode": false,
    "hidePrompt": false
   },
   "source": [
    "#### Grouped by role\n",
    "\n",
    "Plot not included in supplemental"
   ]
  },
  {
   "cell_type": "code",
   "execution_count": null,
   "metadata": {
    "hideCode": false,
    "hidePrompt": false
   },
   "outputs": [],
   "source": [
    "fig, ax = plt.subplots(figsize=(7, 3))\n",
    "\n",
    "coursera.groupby('Role').mean().filter(axis='columns', like='QID371_')\\\n",
    "    .dropna(axis='columns')\\\n",
    "    .rename(columns=pre_q['short'])\\\n",
    "    .transpose().sort_values(by='Post-doctoral researcher')\\\n",
    "    .plot(kind='barh', ax=ax, color=sns.color_palette('Blues_r', 4))\n",
    "\n",
    "ax.legend().set_title('')\n",
    "ax.set_xlim([0., 3.])\n",
    "ax.set_xticks(np.arange(0., 3.1, 0.5))\n",
    "ax.set_xticklabels(['Not at all important', '', 'Moderately important', '',\n",
    "                    'Important', '', 'Very important']);"
   ]
  },
  {
   "cell_type": "markdown",
   "metadata": {},
   "source": [
    "### Usefulness of Course Components"
   ]
  },
  {
   "cell_type": "code",
   "execution_count": null,
   "metadata": {},
   "outputs": [],
   "source": [
    "pst.columns"
   ]
  },
  {
   "cell_type": "code",
   "execution_count": null,
   "metadata": {},
   "outputs": [],
   "source": [
    "pre_intent = pre.filter(axis='columns', like='QID371').rename(columns=pre_q['short'])\n",
    "\n",
    "((pre_intent >= 2).sum() / pre_intent.notna().sum()).sort_values(ascending=False)"
   ]
  },
  {
   "cell_type": "code",
   "execution_count": null,
   "metadata": {},
   "outputs": [],
   "source": [
    "pd.DataFrame(((pre_intent >= 2).sum() / \n",
    "              pre_intent.notna().sum()).sort_values(ascending=False))\\\n",
    ".to_html('plots/motivations_table.html', header=False)"
   ]
  },
  {
   "cell_type": "code",
   "execution_count": null,
   "metadata": {},
   "outputs": [],
   "source": [
    "fig, ax = plt.subplots(figsize=(8, 3))\n",
    "\n",
    "q_help = ['QID373_{:d}'.format(i) for i in [11,12,13,14,15,16,17,21,22,9]]\n",
    "q_text = pst_q.loc[q_help, 'short']\n",
    "\n",
    "pst_help = pst[q_help + ['course_name']]\n",
    "\n",
    "pst_help_means = pst_help.groupby('course_name').mean() \n",
    "\n",
    "m = pst_help[q_help].mean()\n",
    "err = pd.DataFrame({\"min\":m-pst_help_means.min(), \n",
    "                              \"max\":pst_help_means.max()-m}).transpose().values\n",
    "m.index=q_text\n",
    "#display(m.sort_values())\n",
    "sortedorder = [7,5,1,0,2,8,3,6,4,9]\n",
    "#display(m[sortedorder])\n",
    "\n",
    "ax.errorbar(x=m[sortedorder], y=np.arange(10),\n",
    "            xerr=err[:,sortedorder],\n",
    "             fmt='o', label='')\n",
    "\n",
    "ax.set_ylim(-0.5, 9.5)\n",
    "ax.set_yticks(range(10))\n",
    "ax.set_yticklabels(q_text[sortedorder])\n",
    "ax.tick_params(axis='y', which='major', pad=10)\n",
    "\n",
    "ax.set_xlim(0,4.1)\n",
    "ax.set_xticks([0, 0.5,1,1.5,2,2.5,3,3.5,4])\n",
    "ax.set_xticklabels(['No help','','Little help','','Moderate help','','Much help','','Great help'])\n",
    "\n",
    "ax.set_facecolor(\"white\")\n",
    "\n",
    "ax.grid(False)\n",
    "ax.spines[\"top\"].set_visible(False)\n",
    "ax.spines[\"bottom\"].set_visible(False)\n",
    "ax.spines[\"right\"].set_visible(False)\n",
    "ax.spines[\"left\"].set_visible(False)\n",
    "ax.grid(which=\"major\", axis=\"x\", color=\"#cccccc\")\n",
    "\n",
    "ax.xaxis.set_ticks_position('none') \n",
    "ax.yaxis.set_ticks_position('none') \n",
    "\n",
    "plt.tight_layout()\n",
    "plt.savefig(\"plots/Fig-S8-helpful.png\")\n",
    "plt.savefig(\"plots/Fig-S8-helpful.svg\")"
   ]
  },
  {
   "cell_type": "code",
   "execution_count": null,
   "metadata": {},
   "outputs": [],
   "source": [
    "# output data\n",
    "pd.DataFrame({\"mean\":m[sortedorder], \n",
    "              \"category\":q_text[sortedorder], \n",
    "              \"min\":m[sortedorder]-err[0,sortedorder],\n",
    "              \"max\":m[sortedorder]+err[1,sortedorder]}).to_csv(\"plots/help.csv\")"
   ]
  },
  {
   "cell_type": "markdown",
   "metadata": {},
   "source": [
    "### Learning Indicators"
   ]
  },
  {
   "cell_type": "code",
   "execution_count": null,
   "metadata": {},
   "outputs": [],
   "source": [
    "fig, ax = plt.subplots(figsize=(6, 3))\n",
    "\n",
    "q_gains = ['QID387_{:d}'.format(i) for i in [25,27,28,30,32,34,37]]\n",
    "#q_text = pst_q.loc[q_gains, 'short']\n",
    "#q_text = [x.strip() for x in q_text]\n",
    "q_text = ['Enthusiasm', \n",
    "          'Discussion', \n",
    "          'Additional Classes', \n",
    "          'Additional MOOC', \n",
    "          'Understanding', \n",
    "          'Implementation', \n",
    "          'Seek Help']\n",
    "\n",
    "pst_gains = pst[q_gains + ['course_name']]\n",
    "\n",
    "pst_gains_means = pst_gains.groupby('course_name').mean() \n",
    "\n",
    "m = pst_gains[q_gains].mean()\n",
    "err = pd.DataFrame({\"min\":m-pst_gains_means.min(), \n",
    "                              \"max\":pst_gains_means.max()-m}).transpose().values\n",
    "m.index=q_text\n",
    "#display(m)\n",
    "#display(m.sort_values())\n",
    "sortedorder = [3,0,6,2,4,1,5]\n",
    "#display(m[sortedorder])\n",
    "\n",
    "ax.errorbar(x=m[sortedorder], y=np.arange(7),\n",
    "            xerr=err[:,sortedorder],\n",
    "             fmt='o', label='')\n",
    "\n",
    "ax.set_ylim(-0.5, 6.5)\n",
    "ax.set_yticks(range(7))\n",
    "ax.set_yticklabels([q_text[x] for x in sortedorder])\n",
    "ax.tick_params(axis='y', which='major', pad=10)\n",
    "\n",
    "ax.set_xlim(0,4.1)\n",
    "ax.set_xticks([0, 0.5,1,1.5,2,2.5,3,3.5,4])\n",
    "ax.set_xticklabels(['No gain','','Little gain','','Moderate gain','','Good gain','','Great gain'])\n",
    "\n",
    "ax.set_facecolor(\"white\")\n",
    "\n",
    "ax.grid(False)\n",
    "ax.spines[\"top\"].set_visible(False)\n",
    "ax.spines[\"bottom\"].set_visible(False)\n",
    "ax.spines[\"right\"].set_visible(False)\n",
    "ax.spines[\"left\"].set_visible(False)\n",
    "ax.grid(which=\"major\", axis=\"x\", color=\"#cccccc\")\n",
    "\n",
    "ax.xaxis.set_ticks_position('none') \n",
    "ax.yaxis.set_ticks_position('none') \n",
    "\n",
    "plt.tight_layout()\n",
    "plt.savefig(\"plots/Fig-S9-gains.png\")\n",
    "plt.savefig(\"plots/Fig-S9-gains.svg\")"
   ]
  },
  {
   "cell_type": "code",
   "execution_count": null,
   "metadata": {},
   "outputs": [],
   "source": [
    "# output data\n",
    "pd.DataFrame({\"mean\":m[sortedorder], \n",
    "              \"category\":[q_text[x] for x in sortedorder], \n",
    "              \"min\":m[sortedorder]-err[0,sortedorder],\n",
    "              \"max\":m[sortedorder]+err[1,sortedorder]}).to_csv(\"plots/gains.csv\")"
   ]
  },
  {
   "cell_type": "code",
   "execution_count": null,
   "metadata": {},
   "outputs": [],
   "source": [
    "fig, ax = plt.subplots(figsize=(6, 3))\n",
    "\n",
    "q_fam = ['QID601_{:d}'.format(i) for i in [1, 2, 3, 4, 6, 15, 16]]\n",
    "q_text = pst_q.loc[q_fam, 'short']\n",
    "\n",
    "pst_fam = pst[q_fam + ['course_name']]\n",
    "\n",
    "pst_fam_means = pst_fam.groupby('course_name').mean() \n",
    "\n",
    "m = pst_fam[q_fam].mean()\n",
    "err = pd.DataFrame({\"min\":m-pst_fam_means.min(), \n",
    "                              \"max\":pst_fam_means.max()-m}).transpose().values\n",
    "m.index=q_text\n",
    "display(m)\n",
    "sortedorder = [3,2,4,1,6,5,0]\n",
    "\n",
    "ax.errorbar(x=m[sortedorder], y=np.arange(7),\n",
    "            xerr=err[:,sortedorder],\n",
    "             fmt='o', label='')\n",
    "\n",
    "ax.set_ylim(-0.5, 6.5)\n",
    "ax.set_yticks(range(7))\n",
    "ax.set_yticklabels([q_text[x] for x in sortedorder])\n",
    "ax.tick_params(axis='y', which='major', pad=10)\n",
    "\n",
    "ax.set_xlim(0,3.1)\n",
    "ax.set_xticks([0, 0.5,1,1.5,2,2.5,3])\n",
    "ax.set_xticklabels(['Not at all','', 'Slightly', '','Moderately', '','Very'])\n",
    "plt.xlabel(\"Familiarity\")\n",
    "\n",
    "ax.set_facecolor(\"white\")\n",
    "\n",
    "ax.grid(False)\n",
    "ax.spines[\"top\"].set_visible(False)\n",
    "ax.spines[\"bottom\"].set_visible(False)\n",
    "ax.spines[\"right\"].set_visible(False)\n",
    "ax.spines[\"left\"].set_visible(False)\n",
    "ax.grid(which=\"major\", axis=\"x\", color=\"#cccccc\")\n",
    "\n",
    "ax.xaxis.set_ticks_position('none') \n",
    "ax.yaxis.set_ticks_position('none') \n",
    "\n",
    "plt.tight_layout()\n",
    "plt.savefig(\"plots/Fig-S10-familiar_all.png\")\n",
    "plt.savefig(\"plots/Fig-S10-familiar_all.svg\")"
   ]
  },
  {
   "cell_type": "code",
   "execution_count": null,
   "metadata": {},
   "outputs": [],
   "source": [
    "# output data\n",
    "pd.DataFrame({\"mean\":m[sortedorder], \n",
    "              \"category\":[q_text[x] for x in sortedorder], \n",
    "              \"min\":m[sortedorder]-err[0,sortedorder],\n",
    "              \"max\":m[sortedorder]+err[1,sortedorder]}).to_csv(\"plots/familiar_all.csv\")"
   ]
  },
  {
   "cell_type": "markdown",
   "metadata": {},
   "source": [
    "## MCLC"
   ]
  },
  {
   "cell_type": "code",
   "execution_count": null,
   "metadata": {},
   "outputs": [],
   "source": [
    "g1 = coursera[(coursera.pre==1) | (coursera.post==1)].replace(np.nan, 'No response')\n",
    "\n",
    "print(g1.shape[0])\n",
    "g1['QID389_p'] = [x.capitalize() for x in g1['QID389_p'].values]\n",
    "t = pd.crosstab(g1['QID367'].rename('Intent'), \n",
    "            g1['QID389_p'].rename('Self-Reported Participation'), \n",
    "                margins=True, normalize='index')\n",
    "t = t.iloc[[3,0,1,2,4]][['Yes','No','No response']]\n",
    "display(t.style.format(\"{:.0%}\"))\n",
    "with open('plots/mclc_crosstab.html', 'w') as of:\n",
    "    t.to_html(of, float_format=lambda x: \"{:.0%}\".format(x) if x<1 else \"{}\".format(int(x)))"
   ]
  },
  {
   "cell_type": "code",
   "execution_count": null,
   "metadata": {},
   "outputs": [],
   "source": [
    "t = pd.crosstab(g1['QID367'].rename('Intent'), \n",
    "            g1['QID389_p'].rename('Self-Reported Participation')).loc[['Yes','No']][['Yes','No']]\n",
    "print(t)\n",
    "oddsratio, pvalue = stats.fisher_exact(t)\n",
    "print(\"OddsR: \", oddsratio, \"p-Value:\", pvalue)"
   ]
  },
  {
   "cell_type": "code",
   "execution_count": null,
   "metadata": {},
   "outputs": [],
   "source": [
    "# overall reported participation\n",
    "\n",
    "pst['QID389_p'].value_counts()/len(pst['QID389_p'])"
   ]
  },
  {
   "cell_type": "markdown",
   "metadata": {
    "hideCode": false,
    "hidePrompt": false
   },
   "source": [
    "### Reasons for participating in an MCLC"
   ]
  },
  {
   "cell_type": "code",
   "execution_count": null,
   "metadata": {
    "hideCode": false,
    "hidePrompt": false
   },
   "outputs": [],
   "source": [
    "def multiselect_value_counts(s):\n",
    "    'Count occurences of multiselect options'\n",
    "\n",
    "    opts = set(','.join(pre.loc[pre['QID388'].notna(), 'QID388'].tolist()).split(','))\n",
    "    \n",
    "    c = pd.Series(index=list(opts))\n",
    "    \n",
    "    for i, x in c.iteritems():\n",
    "        c.loc[i] = sum([i in str(y) for y in s])\n",
    "    \n",
    "    return c\n",
    "\n",
    "mclc = pre['QID367'] == 'Yes'\n",
    "\n",
    "print('{:.1%} of pre-survey respondents intend to join an MCLC'.format(mclc.sum() / len(pre)))\n",
    "\n",
    "t = pd.DataFrame({'Total': multiselect_value_counts(pre[mclc]['QID388']),\n",
    "              'Percent': multiselect_value_counts(pre[mclc]['QID388'])/mclc.sum()})\\\n",
    "    .sort_values(by='Total', ascending=False)\n",
    "t.index = [x.capitalize() for x in t.index]\n",
    "\n",
    "display(t.style.format(lambda x: \"{:.0%}\".format(x) if x<1 else int(x)))\n",
    "\n",
    "with open('plots/mclc_motivation.html', 'w') as of:\n",
    "    t.to_html(of, float_format=lambda x: \"{:.0%}\".format(x) if x<1 else \"{}\".format(int(x)))"
   ]
  },
  {
   "cell_type": "code",
   "execution_count": null,
   "metadata": {},
   "outputs": [],
   "source": []
  }
 ],
 "metadata": {
  "kernelspec": {
   "display_name": "Python 3 (ipykernel)",
   "language": "python",
   "name": "python3"
  },
  "language_info": {
   "codemirror_mode": {
    "name": "ipython",
    "version": 3
   },
   "file_extension": ".py",
   "mimetype": "text/x-python",
   "name": "python",
   "nbconvert_exporter": "python",
   "pygments_lexer": "ipython3",
   "version": "3.7.15"
  }
 },
 "nbformat": 4,
 "nbformat_minor": 2
}
